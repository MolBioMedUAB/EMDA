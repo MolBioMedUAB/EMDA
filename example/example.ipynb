{
 "cells": [
  {
   "cell_type": "code",
   "execution_count": 1,
   "metadata": {},
   "outputs": [
    {
     "name": "stderr",
     "output_type": "stream",
     "text": [
      "/Users/mikicanyelles/miniconda3/envs/emda-dev/lib/python3.12/site-packages/EMDA/emda.py:2: TqdmExperimentalWarning: Using `tqdm.autonotebook.tqdm` in notebook mode. Use `tqdm.tqdm` instead to force console mode (e.g. in jupyter console)\n",
      "  from tqdm.autonotebook import tqdm\n",
      "/Users/mikicanyelles/miniconda3/envs/emda-dev/lib/python3.12/site-packages/Bio/Application/__init__.py:40: BiopythonDeprecationWarning: The Bio.Application modules and modules relying on it have been deprecated.\n",
      "\n",
      "Due to the on going maintenance burden of keeping command line application\n",
      "wrappers up to date, we have decided to deprecate and eventually remove these\n",
      "modules.\n",
      "\n",
      "We instead now recommend building your command line and invoking it directly\n",
      "with the subprocess module.\n",
      "  warnings.warn(\n"
     ]
    },
    {
     "name": "stdout",
     "output_type": "stream",
     "text": [
      "EMDA version is: 1.0.0a4\n"
     ]
    }
   ],
   "source": [
    "from EMDA import EMDA, __version__\n",
    "print(\"EMDA version is:\", __version__)\n",
    "\n",
    "\n",
    "from numpy import average\n",
    "\n",
    "import matplotlib.pyplot as plt\n",
    "\n",
    "plt.style.use('ggplot')"
   ]
  },
  {
   "cell_type": "markdown",
   "metadata": {},
   "source": [
    "# Load parameters and trajectory <a class=\"anchor\" id=\"load\"></a>"
   ]
  },
  {
   "cell_type": "code",
   "execution_count": 2,
   "metadata": {},
   "outputs": [],
   "source": [
    "parameters = 'parameters.prmtop' # AMBER parameters file\n",
    "trajectory = 'trajectory.nc'     # AMBER NetCDF coordinates (10 frames)"
   ]
  },
  {
   "cell_type": "code",
   "execution_count": 3,
   "metadata": {},
   "outputs": [
    {
     "name": "stdout",
     "output_type": "stream",
     "text": [
      "Trajectory has been loaded!\n"
     ]
    }
   ],
   "source": [
    "emda = EMDA(parameters=parameters, trajectory=trajectory, fix_jump=True)"
   ]
  },
  {
   "cell_type": "code",
   "execution_count": 4,
   "metadata": {},
   "outputs": [
    {
     "name": "stdout",
     "output_type": "stream",
     "text": [
      "V2 variant has been loaded!\n"
     ]
    }
   ],
   "source": [
    "emda.load_variant(parameters, trajectory)"
   ]
  },
  {
   "cell_type": "code",
   "execution_count": 5,
   "metadata": {},
   "outputs": [
    {
     "name": "stdout",
     "output_type": "stream",
     "text": [
      "A new replica has been loaded to variant V2!\n",
      "A new replica has been loaded to variant V1!\n",
      "A new replica has been loaded to variant V2!\n"
     ]
    }
   ],
   "source": [
    "emda.load_trajectory(trajectory)\n",
    "emda.load_trajectory(trajectory, variant_name='V1')\n",
    "emda.load_trajectory(trajectory)"
   ]
  },
  {
   "cell_type": "code",
   "execution_count": 6,
   "metadata": {},
   "outputs": [
    {
     "data": {
      "text/plain": [
       "{'V1': {'R1': <Universe with 79250 atoms>, 'R2': <Universe with 79250 atoms>},\n",
       " 'V2': {'R1': <Universe with 79250 atoms>,\n",
       "  'R2': <Universe with 79250 atoms>,\n",
       "  'R3': <Universe with 79250 atoms>}}"
      ]
     },
     "execution_count": 6,
     "metadata": {},
     "output_type": "execute_result"
    }
   ],
   "source": [
    "emda.universe"
   ]
  },
  {
   "cell_type": "code",
   "execution_count": 7,
   "metadata": {},
   "outputs": [
    {
     "name": "stdout",
     "output_type": "stream",
     "text": [
      "EMDA measures have been loaded!\n",
      "EMDA analyses have been loaded!\n",
      "EMDA selections have been loaded!\n"
     ]
    }
   ],
   "source": [
    "emda.load('EMDA.yaml')"
   ]
  },
  {
   "cell_type": "markdown",
   "metadata": {},
   "source": [
    "# Select the atoms to be used for the analysis <a class=\"anchor\" id=\"select\"></a>"
   ]
  },
  {
   "cell_type": "code",
   "execution_count": 7,
   "metadata": {},
   "outputs": [
    {
     "name": "stdout",
     "output_type": "stream",
     "text": [
      "{'C10': 'name C10', 'C11': 'name C11', 'C12': 'name C12', 'C13': 'name C13', 'C14': 'name C14', 'H12': 'name H12A or name H12B', 'cof': 'bynum 10597', 'COO': 'bynum 10599 or bynum 10600 or bynum 10601', 'subs': 'resid 666'}\n"
     ]
    }
   ],
   "source": [
    "emda.select('C10', 'C10', sel_type='at_name',)\n",
    "emda.select('C11', 'C11', sel_type='at_name',)\n",
    "emda.select('C12', 'C12', sel_type='at_name',)\n",
    "emda.select('C13', 'C13', sel_type='at_name')\n",
    "emda.select('C14', 'C14', sel_type='at_name',)\n",
    "emda.select('H12', ['H12A', 'H12B'], sel_type='at_name')\n",
    "emda.select('cof', 10597, sel_type='at_num')\n",
    "\n",
    "emda.select('COO', [10599, 10600, 10601], sel_type='at_num')\n",
    "\n",
    "#subs = emda.universe.select_atoms('resid 666')\n",
    "emda.select('subs', 666, sel_type='res_num')\n",
    "\n",
    "print(emda.selections)"
   ]
  },
  {
   "cell_type": "markdown",
   "metadata": {},
   "source": [
    "# Analysis of the trajectory <a class=\"anchor\" id=\"trajanalysis\"></a>"
   ]
  },
  {
   "cell_type": "code",
   "execution_count": 8,
   "metadata": {},
   "outputs": [],
   "source": [
    "#emda.add_distance('dist_H12', 'cof', 'H12')\n",
    "#emda.add_angle('angle_C11C12C13', 'C11', 'C12', 'C13')\n",
    "#emda.add_dihedral('dihe_C10C11C13C14', 'C10', 'C11', 'C13', 'C14', domain=180)\n",
    "emda.add_contacts('contacts_COO', 'COO', sel_env=5, interactions='all', include_WAT=False, measure_distances=True)\n",
    "#emda.add_protein_contacts('contacts_prot', sel_env=3, measure_distances=True)\n",
    "#emda.add_pKa('pka', excluded_ions=['Na+'], keep_pdb=True, keep_pka=True)\n",
    "#emda.add_RMSD('RMSD_subs', 'subs', weights='mass')"
   ]
  },
  {
   "cell_type": "markdown",
   "metadata": {},
   "source": [
    "## Run the measurements"
   ]
  },
  {
   "cell_type": "code",
   "execution_count": 9,
   "metadata": {},
   "outputs": [
    {
     "name": "stdout",
     "output_type": "stream",
     "text": [
      "{'contacts_COO': Measure dataclass with:\n",
      "\tName:   contacts_COO\n",
      "\tType:   contacts\n",
      "\tSel:    ['COO', 5]\n",
      "\tStatus: \n",
      "\t\tV1, R1: Calculated\n",
      "\t\tV1, R2: Calculated\n",
      "\t\tV2, R1: Calculated\n",
      "\t\tV2, R2: Calculated\n",
      "\t\tV2, R3: Calculated\n",
      "}\n"
     ]
    }
   ],
   "source": [
    "print(emda.measures)"
   ]
  },
  {
   "cell_type": "code",
   "execution_count": 10,
   "metadata": {},
   "outputs": [
    {
     "data": {
      "application/vnd.jupyter.widget-view+json": {
       "model_id": "7b44cfdd14ee47cbb283f82ceb7ddfab",
       "version_major": 2,
       "version_minor": 0
      },
      "text/plain": [
       "Variants:   0%|          | 0/2 [00:00<?, ?var/s]"
      ]
     },
     "metadata": {},
     "output_type": "display_data"
    },
    {
     "data": {
      "application/vnd.jupyter.widget-view+json": {
       "model_id": "429c14f1b77043be9ce7d9cf0d69a12a",
       "version_major": 2,
       "version_minor": 0
      },
      "text/plain": [
       "Measuring variant V1, replica R1:   0%|          | 0/10 [00:00<?, ?Frame/s]"
      ]
     },
     "metadata": {},
     "output_type": "display_data"
    },
    {
     "data": {
      "application/vnd.jupyter.widget-view+json": {
       "model_id": "3109c25349094d4cac5d26ae0d365572",
       "version_major": 2,
       "version_minor": 0
      },
      "text/plain": [
       "Measuring variant V1, replica R2:   0%|          | 0/10 [00:00<?, ?Frame/s]"
      ]
     },
     "metadata": {},
     "output_type": "display_data"
    },
    {
     "data": {
      "application/vnd.jupyter.widget-view+json": {
       "model_id": "b907fe02242f434d8fca6929946eedf0",
       "version_major": 2,
       "version_minor": 0
      },
      "text/plain": [
       "Measuring variant V2, replica R1:   0%|          | 0/10 [00:00<?, ?Frame/s]"
      ]
     },
     "metadata": {},
     "output_type": "display_data"
    },
    {
     "data": {
      "application/vnd.jupyter.widget-view+json": {
       "model_id": "418cac10a42a4e3690e980f12773c645",
       "version_major": 2,
       "version_minor": 0
      },
      "text/plain": [
       "Measuring variant V2, replica R2:   0%|          | 0/10 [00:00<?, ?Frame/s]"
      ]
     },
     "metadata": {},
     "output_type": "display_data"
    },
    {
     "data": {
      "application/vnd.jupyter.widget-view+json": {
       "model_id": "49ca71e09c8048e1a8cd24bec68848d2",
       "version_major": 2,
       "version_minor": 0
      },
      "text/plain": [
       "Measuring variant V2, replica R3:   0%|          | 0/10 [00:00<?, ?Frame/s]"
      ]
     },
     "metadata": {},
     "output_type": "display_data"
    }
   ],
   "source": [
    "emda.run()"
   ]
  },
  {
   "cell_type": "markdown",
   "metadata": {},
   "source": [
    "emda.measures['dist_H12'].result"
   ]
  },
  {
   "cell_type": "code",
   "execution_count": 10,
   "metadata": {},
   "outputs": [
    {
     "name": "stderr",
     "output_type": "stream",
     "text": [
      "/Users/mikicanyelles/miniconda3/envs/emda-dev/lib/python3.12/site-packages/EMDA/plotters.py:146: SyntaxWarning: invalid escape sequence '\\_'\n",
      "  fig.suptitle(\"Plots for \" + r\"$\\bf{%s}$\" % self.name.replace('_', '\\_') +  \" Measure\")\n",
      "/Users/mikicanyelles/miniconda3/envs/emda-dev/lib/python3.12/site-packages/EMDA/plotters.py:149: SyntaxWarning: invalid escape sequence '\\_'\n",
      "  fig.suptitle(\"Plots for \" + r\"$\\bf{%s}$\" % measure_name.replace('_', '\\_') +  \" Measure\")\n",
      "/Users/mikicanyelles/miniconda3/envs/emda-dev/lib/python3.12/site-packages/EMDA/plotters.py:263: SyntaxWarning: invalid escape sequence '\\_'\n",
      "  ax.set_title('Plot for ' + r\"$\\bf{%s}$\" % analysis_obj.name.replace('_', '\\_') + \" Analysis\")\n",
      "/Users/mikicanyelles/miniconda3/envs/emda-dev/lib/python3.12/site-packages/EMDA/plotters.py:482: SyntaxWarning: invalid escape sequence '\\_'\n",
      "  fig.suptitle(\"Plots for \" + r\"$\\bf{%s}$\" % self.name.replace('_', '\\_') +  \" Measure\")\n",
      "/Users/mikicanyelles/miniconda3/envs/emda-dev/lib/python3.12/site-packages/EMDA/plotters.py:485: SyntaxWarning: invalid escape sequence '\\_'\n",
      "  fig.suptitle(\"Plots for \" + r\"$\\bf{%s}$\" % analysis_name.replace('_', '\\_') +  \" Measure\")\n"
     ]
    },
    {
     "ename": "KeyError",
     "evalue": "'angle_C11C12C13'",
     "output_type": "error",
     "traceback": [
      "\u001b[0;31m---------------------------------------------------------------------------\u001b[0m",
      "\u001b[0;31mKeyError\u001b[0m                                  Traceback (most recent call last)",
      "Cell \u001b[0;32mIn[10], line 1\u001b[0m\n\u001b[0;32m----> 1\u001b[0m \u001b[43memda\u001b[49m\u001b[38;5;241;43m.\u001b[39;49m\u001b[43mplot_measure\u001b[49m\u001b[43m(\u001b[49m\u001b[43mmeasure_name\u001b[49m\u001b[38;5;241;43m=\u001b[39;49m\u001b[38;5;124;43m'\u001b[39;49m\u001b[38;5;124;43mangle_C11C12C13\u001b[39;49m\u001b[38;5;124;43m'\u001b[39;49m\u001b[43m,\u001b[49m\u001b[43m \u001b[49m\u001b[43mcombine_replicas\u001b[49m\u001b[38;5;241;43m=\u001b[39;49m\u001b[38;5;28;43;01mFalse\u001b[39;49;00m\u001b[43m,\u001b[49m\u001b[43m \u001b[49m\u001b[43mwidth_per_replica\u001b[49m\u001b[38;5;241;43m=\u001b[39;49m\u001b[38;5;241;43m4\u001b[39;49m\u001b[43m)\u001b[49m\n",
      "File \u001b[0;32m~/miniconda3/envs/emda-dev/lib/python3.12/site-packages/EMDA/plotters.py:42\u001b[0m, in \u001b[0;36mplot_measure\u001b[0;34m(self, measure_name, same_y, same_x, axis_label_everywhere, combine_replicas, width_per_replica, height_per_variant, out_name)\u001b[0m\n\u001b[1;32m     40\u001b[0m     measure_obj \u001b[38;5;241m=\u001b[39m \u001b[38;5;28mself\u001b[39m\n\u001b[1;32m     41\u001b[0m \u001b[38;5;28;01melse\u001b[39;00m :\n\u001b[0;32m---> 42\u001b[0m     measure_obj \u001b[38;5;241m=\u001b[39m \u001b[38;5;28;43mself\u001b[39;49m\u001b[38;5;241;43m.\u001b[39;49m\u001b[43mmeasures\u001b[49m\u001b[43m[\u001b[49m\u001b[43mmeasure_name\u001b[49m\u001b[43m]\u001b[49m\n\u001b[1;32m     45\u001b[0m \u001b[38;5;28;01mif\u001b[39;00m measure_obj\u001b[38;5;241m.\u001b[39mtype \u001b[38;5;129;01mnot\u001b[39;00m \u001b[38;5;129;01min\u001b[39;00m (\u001b[38;5;124m\"\u001b[39m\u001b[38;5;124mdistance\u001b[39m\u001b[38;5;124m\"\u001b[39m, \u001b[38;5;124m\"\u001b[39m\u001b[38;5;124mangle\u001b[39m\u001b[38;5;124m\"\u001b[39m, \u001b[38;5;124m\"\u001b[39m\u001b[38;5;124mdihedral\u001b[39m\u001b[38;5;124m\"\u001b[39m, \u001b[38;5;124m\"\u001b[39m\u001b[38;5;124mRMSD\u001b[39m\u001b[38;5;124m\"\u001b[39m, \u001b[38;5;124m\"\u001b[39m\u001b[38;5;124mplanar_angle\u001b[39m\u001b[38;5;124m\"\u001b[39m, \u001b[38;5;124m\"\u001b[39m\u001b[38;5;124mcontacts_amount\u001b[39m\u001b[38;5;124m\"\u001b[39m):\n\u001b[1;32m     46\u001b[0m     \u001b[38;5;28;01mraise\u001b[39;00m NotCompatibleMeasureForPlotterError\n",
      "\u001b[0;31mKeyError\u001b[0m: 'angle_C11C12C13'"
     ]
    }
   ],
   "source": [
    "emda.plot_measure(measure_name='angle_C11C12C13', combine_replicas=False, width_per_replica=4)"
   ]
  },
  {
   "cell_type": "code",
   "execution_count": null,
   "metadata": {},
   "outputs": [
    {
     "ename": "KeyError",
     "evalue": "'dist_H12'",
     "output_type": "error",
     "traceback": [
      "\u001b[0;31m---------------------------------------------------------------------------\u001b[0m",
      "\u001b[0;31mKeyError\u001b[0m                                  Traceback (most recent call last)",
      "Cell \u001b[0;32mIn[12], line 1\u001b[0m\n\u001b[0;32m----> 1\u001b[0m \u001b[43memda\u001b[49m\u001b[38;5;241;43m.\u001b[39;49m\u001b[43mplot_measure\u001b[49m\u001b[43m(\u001b[49m\u001b[43mmeasure_name\u001b[49m\u001b[38;5;241;43m=\u001b[39;49m\u001b[38;5;124;43m'\u001b[39;49m\u001b[38;5;124;43mdist_H12\u001b[39;49m\u001b[38;5;124;43m'\u001b[39;49m\u001b[43m,\u001b[49m\u001b[43m \u001b[49m\u001b[43mcombine_replicas\u001b[49m\u001b[38;5;241;43m=\u001b[39;49m\u001b[38;5;28;43;01mFalse\u001b[39;49;00m\u001b[43m,\u001b[49m\u001b[43m \u001b[49m\u001b[43mwidth_per_replica\u001b[49m\u001b[38;5;241;43m=\u001b[39;49m\u001b[38;5;241;43m4\u001b[39;49m\u001b[43m)\u001b[49m\n",
      "File \u001b[0;32m~/miniconda3/envs/emda-dev/lib/python3.12/site-packages/EMDA/plotters.py:42\u001b[0m, in \u001b[0;36mplot_measure\u001b[0;34m(self, measure_name, same_y, same_x, axis_label_everywhere, combine_replicas, width_per_replica, height_per_variant, out_name)\u001b[0m\n\u001b[1;32m     40\u001b[0m     measure_obj \u001b[38;5;241m=\u001b[39m \u001b[38;5;28mself\u001b[39m\n\u001b[1;32m     41\u001b[0m \u001b[38;5;28;01melse\u001b[39;00m :\n\u001b[0;32m---> 42\u001b[0m     measure_obj \u001b[38;5;241m=\u001b[39m \u001b[38;5;28;43mself\u001b[39;49m\u001b[38;5;241;43m.\u001b[39;49m\u001b[43mmeasures\u001b[49m\u001b[43m[\u001b[49m\u001b[43mmeasure_name\u001b[49m\u001b[43m]\u001b[49m\n\u001b[1;32m     45\u001b[0m \u001b[38;5;28;01mif\u001b[39;00m measure_obj\u001b[38;5;241m.\u001b[39mtype \u001b[38;5;129;01mnot\u001b[39;00m \u001b[38;5;129;01min\u001b[39;00m (\u001b[38;5;124m\"\u001b[39m\u001b[38;5;124mdistance\u001b[39m\u001b[38;5;124m\"\u001b[39m, \u001b[38;5;124m\"\u001b[39m\u001b[38;5;124mangle\u001b[39m\u001b[38;5;124m\"\u001b[39m, \u001b[38;5;124m\"\u001b[39m\u001b[38;5;124mdihedral\u001b[39m\u001b[38;5;124m\"\u001b[39m, \u001b[38;5;124m\"\u001b[39m\u001b[38;5;124mRMSD\u001b[39m\u001b[38;5;124m\"\u001b[39m, \u001b[38;5;124m\"\u001b[39m\u001b[38;5;124mplanar_angle\u001b[39m\u001b[38;5;124m\"\u001b[39m, \u001b[38;5;124m\"\u001b[39m\u001b[38;5;124mcontacts_amount\u001b[39m\u001b[38;5;124m\"\u001b[39m):\n\u001b[1;32m     46\u001b[0m     \u001b[38;5;28;01mraise\u001b[39;00m NotCompatibleMeasureForPlotterError\n",
      "\u001b[0;31mKeyError\u001b[0m: 'dist_H12'"
     ]
    }
   ],
   "source": [
    "emda.plot_measure(measure_name='dist_H12', combine_replicas=False, width_per_replica=4)"
   ]
  },
  {
   "cell_type": "code",
   "execution_count": null,
   "metadata": {},
   "outputs": [
    {
     "data": {
      "text/plain": [
       "{'V1': {'R1': [{'PHE174': 4.07980881465334,\n",
       "    'LEU178': 3.5435824880000375,\n",
       "    'ARG402': 1.9399333834911683,\n",
       "    'GLN406': 2.867864767800535,\n",
       "    'LEU407': 4.24181764223233},\n",
       "   {'PHE174': 4.4558988619008435,\n",
       "    'LEU178': 3.8466559600196835,\n",
       "    'ARG402': 1.8721366515157698,\n",
       "    'GLN406': 2.836182864593443},\n",
       "   {'PHE174': 3.6862194916378637,\n",
       "    'LEU178': 3.7155243912469964,\n",
       "    'ARG402': 1.9201518479778008,\n",
       "    'GLN406': 2.5640726493302677},\n",
       "   {'PHE174': 3.3549618547451088,\n",
       "    'LEU178': 4.178788656048772,\n",
       "    'ARG402': 1.751238839056139,\n",
       "    'GLN406': 2.9398608975847096},\n",
       "   {'PHE174': 4.025384584892292,\n",
       "    'LEU178': 4.63404880443787,\n",
       "    'ARG402': 1.8513355559435591,\n",
       "    'GLN406': 3.0151037695042144},\n",
       "   {'PHE174': 3.432455444286102,\n",
       "    'LEU178': 3.9452616933467906,\n",
       "    'ARG402': 2.0385103291148017,\n",
       "    'GLN406': 4.03837910384994},\n",
       "   {'PHE174': 4.492118366836145,\n",
       "    'LEU178': 4.012912198938719,\n",
       "    'ARG402': 1.7890444560801069,\n",
       "    'GLN406': 3.6012818873709262},\n",
       "   {'PHE174': 3.7858386697941766,\n",
       "    'LEU178': 4.204576690912167,\n",
       "    'ARG402': 1.8285848491558256,\n",
       "    'GLN406': 2.7939902886218118},\n",
       "   {'PHE174': 3.503706745791068,\n",
       "    'LEU178': 4.162592163622426,\n",
       "    'ARG402': 1.803715038638585,\n",
       "    'GLN406': 2.6346966033339463},\n",
       "   {'PHE174': 4.330417364302714,\n",
       "    'LEU178': 4.167656661827019,\n",
       "    'ARG402': 1.7549466572139687,\n",
       "    'GLN406': 2.6078065949261804}],\n",
       "  'R2': [{'PHE174': 4.07980881465334,\n",
       "    'LEU178': 3.5435824880000375,\n",
       "    'ARG402': 1.9399333834911683,\n",
       "    'GLN406': 2.867864767800535,\n",
       "    'LEU407': 4.24181764223233},\n",
       "   {'PHE174': 4.4558988619008435,\n",
       "    'LEU178': 3.8466559600196835,\n",
       "    'ARG402': 1.8721366515157698,\n",
       "    'GLN406': 2.836182864593443},\n",
       "   {'PHE174': 3.6862194916378637,\n",
       "    'LEU178': 3.7155243912469964,\n",
       "    'ARG402': 1.9201518479778008,\n",
       "    'GLN406': 2.5640726493302677},\n",
       "   {'PHE174': 3.3549618547451088,\n",
       "    'LEU178': 4.178788656048772,\n",
       "    'ARG402': 1.751238839056139,\n",
       "    'GLN406': 2.9398608975847096},\n",
       "   {'PHE174': 4.025384584892292,\n",
       "    'LEU178': 4.63404880443787,\n",
       "    'ARG402': 1.8513355559435591,\n",
       "    'GLN406': 3.0151037695042144},\n",
       "   {'PHE174': 3.432455444286102,\n",
       "    'LEU178': 3.9452616933467906,\n",
       "    'ARG402': 2.0385103291148017,\n",
       "    'GLN406': 4.03837910384994},\n",
       "   {'PHE174': 4.492118366836145,\n",
       "    'LEU178': 4.012912198938719,\n",
       "    'ARG402': 1.7890444560801069,\n",
       "    'GLN406': 3.6012818873709262},\n",
       "   {'PHE174': 3.7858386697941766,\n",
       "    'LEU178': 4.204576690912167,\n",
       "    'ARG402': 1.8285848491558256,\n",
       "    'GLN406': 2.7939902886218118},\n",
       "   {'PHE174': 3.503706745791068,\n",
       "    'LEU178': 4.162592163622426,\n",
       "    'ARG402': 1.803715038638585,\n",
       "    'GLN406': 2.6346966033339463},\n",
       "   {'PHE174': 4.330417364302714,\n",
       "    'LEU178': 4.167656661827019,\n",
       "    'ARG402': 1.7549466572139687,\n",
       "    'GLN406': 2.6078065949261804}]},\n",
       " 'V2': {'R1': [{'PHE174': 4.07980881465334,\n",
       "    'LEU178': 3.5435824880000375,\n",
       "    'ARG402': 1.9399333834911683,\n",
       "    'GLN406': 2.867864767800535,\n",
       "    'LEU407': 4.24181764223233},\n",
       "   {'PHE174': 4.4558988619008435,\n",
       "    'LEU178': 3.8466559600196835,\n",
       "    'ARG402': 1.8721366515157698,\n",
       "    'GLN406': 2.836182864593443},\n",
       "   {'PHE174': 3.6862194916378637,\n",
       "    'LEU178': 3.7155243912469964,\n",
       "    'ARG402': 1.9201518479778008,\n",
       "    'GLN406': 2.5640726493302677},\n",
       "   {'PHE174': 3.3549618547451088,\n",
       "    'LEU178': 4.178788656048772,\n",
       "    'ARG402': 1.751238839056139,\n",
       "    'GLN406': 2.9398608975847096},\n",
       "   {'PHE174': 4.025384584892292,\n",
       "    'LEU178': 4.63404880443787,\n",
       "    'ARG402': 1.8513355559435591,\n",
       "    'GLN406': 3.0151037695042144},\n",
       "   {'PHE174': 3.432455444286102,\n",
       "    'LEU178': 3.9452616933467906,\n",
       "    'ARG402': 2.0385103291148017,\n",
       "    'GLN406': 4.03837910384994},\n",
       "   {'PHE174': 4.492118366836145,\n",
       "    'LEU178': 4.012912198938719,\n",
       "    'ARG402': 1.7890444560801069,\n",
       "    'GLN406': 3.6012818873709262},\n",
       "   {'PHE174': 3.7858386697941766,\n",
       "    'LEU178': 4.204576690912167,\n",
       "    'ARG402': 1.8285848491558256,\n",
       "    'GLN406': 2.7939902886218118},\n",
       "   {'PHE174': 3.503706745791068,\n",
       "    'LEU178': 4.162592163622426,\n",
       "    'ARG402': 1.803715038638585,\n",
       "    'GLN406': 2.6346966033339463},\n",
       "   {'PHE174': 4.330417364302714,\n",
       "    'LEU178': 4.167656661827019,\n",
       "    'ARG402': 1.7549466572139687,\n",
       "    'GLN406': 2.6078065949261804}],\n",
       "  'R2': [{'PHE174': 4.07980881465334,\n",
       "    'LEU178': 3.5435824880000375,\n",
       "    'ARG402': 1.9399333834911683,\n",
       "    'GLN406': 2.867864767800535,\n",
       "    'LEU407': 4.24181764223233},\n",
       "   {'PHE174': 4.4558988619008435,\n",
       "    'LEU178': 3.8466559600196835,\n",
       "    'ARG402': 1.8721366515157698,\n",
       "    'GLN406': 2.836182864593443},\n",
       "   {'PHE174': 3.6862194916378637,\n",
       "    'LEU178': 3.7155243912469964,\n",
       "    'ARG402': 1.9201518479778008,\n",
       "    'GLN406': 2.5640726493302677},\n",
       "   {'PHE174': 3.3549618547451088,\n",
       "    'LEU178': 4.178788656048772,\n",
       "    'ARG402': 1.751238839056139,\n",
       "    'GLN406': 2.9398608975847096},\n",
       "   {'PHE174': 4.025384584892292,\n",
       "    'LEU178': 4.63404880443787,\n",
       "    'ARG402': 1.8513355559435591,\n",
       "    'GLN406': 3.0151037695042144},\n",
       "   {'PHE174': 3.432455444286102,\n",
       "    'LEU178': 3.9452616933467906,\n",
       "    'ARG402': 2.0385103291148017,\n",
       "    'GLN406': 4.03837910384994},\n",
       "   {'PHE174': 4.492118366836145,\n",
       "    'LEU178': 4.012912198938719,\n",
       "    'ARG402': 1.7890444560801069,\n",
       "    'GLN406': 3.6012818873709262},\n",
       "   {'PHE174': 3.7858386697941766,\n",
       "    'LEU178': 4.204576690912167,\n",
       "    'ARG402': 1.8285848491558256,\n",
       "    'GLN406': 2.7939902886218118},\n",
       "   {'PHE174': 3.503706745791068,\n",
       "    'LEU178': 4.162592163622426,\n",
       "    'ARG402': 1.803715038638585,\n",
       "    'GLN406': 2.6346966033339463},\n",
       "   {'PHE174': 4.330417364302714,\n",
       "    'LEU178': 4.167656661827019,\n",
       "    'ARG402': 1.7549466572139687,\n",
       "    'GLN406': 2.6078065949261804}],\n",
       "  'R3': [{'PHE174': 4.07980881465334,\n",
       "    'LEU178': 3.5435824880000375,\n",
       "    'ARG402': 1.9399333834911683,\n",
       "    'GLN406': 2.867864767800535,\n",
       "    'LEU407': 4.24181764223233},\n",
       "   {'PHE174': 4.4558988619008435,\n",
       "    'LEU178': 3.8466559600196835,\n",
       "    'ARG402': 1.8721366515157698,\n",
       "    'GLN406': 2.836182864593443},\n",
       "   {'PHE174': 3.6862194916378637,\n",
       "    'LEU178': 3.7155243912469964,\n",
       "    'ARG402': 1.9201518479778008,\n",
       "    'GLN406': 2.5640726493302677},\n",
       "   {'PHE174': 3.3549618547451088,\n",
       "    'LEU178': 4.178788656048772,\n",
       "    'ARG402': 1.751238839056139,\n",
       "    'GLN406': 2.9398608975847096},\n",
       "   {'PHE174': 4.025384584892292,\n",
       "    'LEU178': 4.63404880443787,\n",
       "    'ARG402': 1.8513355559435591,\n",
       "    'GLN406': 3.0151037695042144},\n",
       "   {'PHE174': 3.432455444286102,\n",
       "    'LEU178': 3.9452616933467906,\n",
       "    'ARG402': 2.0385103291148017,\n",
       "    'GLN406': 4.03837910384994},\n",
       "   {'PHE174': 4.492118366836145,\n",
       "    'LEU178': 4.012912198938719,\n",
       "    'ARG402': 1.7890444560801069,\n",
       "    'GLN406': 3.6012818873709262},\n",
       "   {'PHE174': 3.7858386697941766,\n",
       "    'LEU178': 4.204576690912167,\n",
       "    'ARG402': 1.8285848491558256,\n",
       "    'GLN406': 2.7939902886218118},\n",
       "   {'PHE174': 3.503706745791068,\n",
       "    'LEU178': 4.162592163622426,\n",
       "    'ARG402': 1.803715038638585,\n",
       "    'GLN406': 2.6346966033339463},\n",
       "   {'PHE174': 4.330417364302714,\n",
       "    'LEU178': 4.167656661827019,\n",
       "    'ARG402': 1.7549466572139687,\n",
       "    'GLN406': 2.6078065949261804}]}}"
      ]
     },
     "execution_count": 13,
     "metadata": {},
     "output_type": "execute_result"
    }
   ],
   "source": [
    "emda.measures['contacts_COO'].result"
   ]
  },
  {
   "cell_type": "markdown",
   "metadata": {},
   "source": [
    "## Analyse distances, angles and dihedrals"
   ]
  },
  {
   "cell_type": "code",
   "execution_count": null,
   "metadata": {},
   "outputs": [
    {
     "ename": "KeyError",
     "evalue": "'dist_H12'",
     "output_type": "error",
     "traceback": [
      "\u001b[0;31m---------------------------------------------------------------------------\u001b[0m",
      "\u001b[0;31mKeyError\u001b[0m                                  Traceback (most recent call last)",
      "Cell \u001b[0;32mIn[14], line 1\u001b[0m\n\u001b[0;32m----> 1\u001b[0m \u001b[43memda\u001b[49m\u001b[38;5;241;43m.\u001b[39;49m\u001b[43manalyse_value\u001b[49m\u001b[43m(\u001b[49m\u001b[38;5;124;43m'\u001b[39;49m\u001b[38;5;124;43mdist_H12_bool\u001b[39;49m\u001b[38;5;124;43m'\u001b[39;49m\u001b[43m,\u001b[49m\u001b[43m \u001b[49m\u001b[38;5;124;43m'\u001b[39;49m\u001b[38;5;124;43mdist_H12\u001b[39;49m\u001b[38;5;124;43m'\u001b[39;49m\u001b[43m,\u001b[49m\u001b[43m \u001b[49m\u001b[38;5;241;43m5\u001b[39;49m\u001b[43m)\u001b[49m\n\u001b[1;32m      2\u001b[0m emda\u001b[38;5;241m.\u001b[39manalyse_value(\u001b[38;5;124m'\u001b[39m\u001b[38;5;124mdihe_C10C11C13C14_bool\u001b[39m\u001b[38;5;124m'\u001b[39m, \u001b[38;5;124m'\u001b[39m\u001b[38;5;124mdihe_C10C11C13C14\u001b[39m\u001b[38;5;124m'\u001b[39m, \u001b[38;5;241m0\u001b[39m, \u001b[38;5;241m20\u001b[39m, mode\u001b[38;5;241m=\u001b[39m\u001b[38;5;124m'\u001b[39m\u001b[38;5;124mtol\u001b[39m\u001b[38;5;124m'\u001b[39m)\n",
      "File \u001b[0;32m~/miniconda3/envs/emda-dev/lib/python3.12/site-packages/EMDA/analysers.py:55\u001b[0m, in \u001b[0;36manalyse_value\u001b[0;34m(self, name, measure, val1, val2, mode)\u001b[0m\n\u001b[1;32m     35\u001b[0m \u001b[38;5;250m\u001b[39m\u001b[38;5;124;03m\"\"\"\u001b[39;00m\n\u001b[1;32m     36\u001b[0m \u001b[38;5;124;03mDESCRIPTION:\u001b[39;00m\n\u001b[1;32m     37\u001b[0m \u001b[38;5;124;03m    Analyser for checking if a value in the frame is between to given values. Threshold (a upper and lower (default is 0) limits) \\\u001b[39;00m\n\u001b[0;32m   (...)\u001b[0m\n\u001b[1;32m     51\u001b[0m \u001b[38;5;124;03m                        between the given values, while tol(erance) mode will return True if the value is between val1+val2 and val1-val2.\u001b[39;00m\n\u001b[1;32m     52\u001b[0m \u001b[38;5;124;03m\"\"\"\u001b[39;00m\n\u001b[1;32m     54\u001b[0m \u001b[38;5;66;03m# If measure, check type and return the Measure as obj\u001b[39;00m\n\u001b[0;32m---> 55\u001b[0m \u001b[38;5;28;01mif\u001b[39;00m measure \u001b[38;5;129;01min\u001b[39;00m \u001b[38;5;28;43mself\u001b[39;49m\u001b[38;5;241;43m.\u001b[39;49m\u001b[43mmeasures\u001b[49m\u001b[43m[\u001b[49m\u001b[43mmeasure\u001b[49m\u001b[43m]\u001b[49m\u001b[38;5;241m.\u001b[39mkeys():\n\u001b[1;32m     56\u001b[0m     \u001b[38;5;28;01mif\u001b[39;00m \u001b[38;5;28mself\u001b[39m\u001b[38;5;241m.\u001b[39mmeasures[measure]\u001b[38;5;241m.\u001b[39mtype \u001b[38;5;129;01mnot\u001b[39;00m \u001b[38;5;129;01min\u001b[39;00m (\u001b[38;5;124m\"\u001b[39m\u001b[38;5;124mdistance\u001b[39m\u001b[38;5;124m\"\u001b[39m, \u001b[38;5;124m\"\u001b[39m\u001b[38;5;124mangle\u001b[39m\u001b[38;5;124m\"\u001b[39m, \u001b[38;5;124m\"\u001b[39m\u001b[38;5;124mdihedral\u001b[39m\u001b[38;5;124m\"\u001b[39m, \u001b[38;5;124m\"\u001b[39m\u001b[38;5;124mplanar_angle\u001b[39m\u001b[38;5;124m\"\u001b[39m):\n\u001b[1;32m     57\u001b[0m         \u001b[38;5;28;01mraise\u001b[39;00m NotCompatibleMeasureForAnalysisError\n",
      "\u001b[0;31mKeyError\u001b[0m: 'dist_H12'"
     ]
    }
   ],
   "source": [
    "emda.analyse_value('dist_H12_bool', 'dist_H12', 5)\n",
    "emda.analyse_value('dihe_C10C11C13C14_bool', 'dihe_C10C11C13C14', 0, 20, mode='tol')"
   ]
  },
  {
   "cell_type": "code",
   "execution_count": null,
   "metadata": {},
   "outputs": [
    {
     "ename": "KeyError",
     "evalue": "'dist_H12_bool'",
     "output_type": "error",
     "traceback": [
      "\u001b[0;31m---------------------------------------------------------------------------\u001b[0m",
      "\u001b[0;31mKeyError\u001b[0m                                  Traceback (most recent call last)",
      "Cell \u001b[0;32mIn[15], line 1\u001b[0m\n\u001b[0;32m----> 1\u001b[0m \u001b[43memda\u001b[49m\u001b[38;5;241;43m.\u001b[39;49m\u001b[43manalyse_NACs\u001b[49m\u001b[43m(\u001b[49m\u001b[38;5;124;43m'\u001b[39;49m\u001b[38;5;124;43mdist_dihe_NACs\u001b[39;49m\u001b[38;5;124;43m'\u001b[39;49m\u001b[43m,\u001b[49m\u001b[43m \u001b[49m\u001b[43m[\u001b[49m\u001b[38;5;124;43m'\u001b[39;49m\u001b[38;5;124;43mdist_H12_bool\u001b[39;49m\u001b[38;5;124;43m'\u001b[39;49m\u001b[43m,\u001b[49m\u001b[43m \u001b[49m\u001b[38;5;124;43m'\u001b[39;49m\u001b[38;5;124;43mdihe_C10C11C13C14_bool\u001b[39;49m\u001b[38;5;124;43m'\u001b[39;49m\u001b[43m]\u001b[49m\u001b[43m,\u001b[49m\u001b[43m \u001b[49m\u001b[43minvert\u001b[49m\u001b[38;5;241;43m=\u001b[39;49m\u001b[38;5;28;43;01mFalse\u001b[39;49;00m\u001b[43m)\u001b[49m\n",
      "File \u001b[0;32m~/miniconda3/envs/emda-dev/lib/python3.12/site-packages/EMDA/analysers.py:371\u001b[0m, in \u001b[0;36manalyse_NACs\u001b[0;34m(self, name, analyses, merge_replicas, invert)\u001b[0m\n\u001b[1;32m    368\u001b[0m     \u001b[38;5;28;01mraise\u001b[39;00m NotEnoughDataError(\u001b[38;5;241m2\u001b[39m) \n\u001b[1;32m    370\u001b[0m \u001b[38;5;28;01mfor\u001b[39;00m analysis \u001b[38;5;129;01min\u001b[39;00m analyses:\n\u001b[0;32m--> 371\u001b[0m     \u001b[38;5;28;01mif\u001b[39;00m \u001b[38;5;28;43mself\u001b[39;49m\u001b[38;5;241;43m.\u001b[39;49m\u001b[43manalyses\u001b[49m\u001b[43m[\u001b[49m\u001b[43manalysis\u001b[49m\u001b[43m]\u001b[49m\u001b[38;5;241m.\u001b[39mtype \u001b[38;5;129;01mnot\u001b[39;00m \u001b[38;5;129;01min\u001b[39;00m (\u001b[38;5;124m\"\u001b[39m\u001b[38;5;124mvalue\u001b[39m\u001b[38;5;124m\"\u001b[39m, \u001b[38;5;124m\"\u001b[39m\u001b[38;5;124mcontacts_presence\u001b[39m\u001b[38;5;124m\"\u001b[39m):\n\u001b[1;32m    372\u001b[0m         \u001b[38;5;28;01mraise\u001b[39;00m NotCompatibleAnalysisForAnalysisError\n\u001b[1;32m    374\u001b[0m \u001b[38;5;28;01mif\u001b[39;00m invert \u001b[38;5;241m!=\u001b[39m \u001b[38;5;28;01mFalse\u001b[39;00m:\n",
      "\u001b[0;31mKeyError\u001b[0m: 'dist_H12_bool'"
     ]
    }
   ],
   "source": [
    "emda.analyse_NACs('dist_dihe_NACs', ['dist_H12_bool', 'dihe_C10C11C13C14_bool'], invert=False)\n"
   ]
  },
  {
   "cell_type": "code",
   "execution_count": null,
   "metadata": {},
   "outputs": [
    {
     "ename": "KeyError",
     "evalue": "'dist_H12_bool'",
     "output_type": "error",
     "traceback": [
      "\u001b[0;31m---------------------------------------------------------------------------\u001b[0m",
      "\u001b[0;31mKeyError\u001b[0m                                  Traceback (most recent call last)",
      "Cell \u001b[0;32mIn[16], line 1\u001b[0m\n\u001b[0;32m----> 1\u001b[0m \u001b[43memda\u001b[49m\u001b[38;5;241;43m.\u001b[39;49m\u001b[43mplot_NACs\u001b[49m\u001b[43m(\u001b[49m\u001b[38;5;124;43m'\u001b[39;49m\u001b[38;5;124;43mdist_H12_bool\u001b[39;49m\u001b[38;5;124;43m'\u001b[39;49m\u001b[43m,\u001b[49m\u001b[43m \u001b[49m\u001b[43mmerge_replicas\u001b[49m\u001b[38;5;241;43m=\u001b[39;49m\u001b[38;5;28;43;01mTrue\u001b[39;49;00m\u001b[43m,\u001b[49m\u001b[43m \u001b[49m\u001b[43mpercentage\u001b[49m\u001b[38;5;241;43m=\u001b[39;49m\u001b[38;5;28;43;01mTrue\u001b[39;49;00m\u001b[43m,\u001b[49m\u001b[43m \u001b[49m\u001b[43mbar_width\u001b[49m\u001b[38;5;241;43m=\u001b[39;49m\u001b[38;5;241;43m0.1\u001b[39;49m\u001b[43m,\u001b[49m\u001b[43m \u001b[49m\u001b[43mwidth\u001b[49m\u001b[38;5;241;43m=\u001b[39;49m\u001b[38;5;241;43m4\u001b[39;49m\u001b[43m)\u001b[49m\n",
      "File \u001b[0;32m~/miniconda3/envs/emda-dev/lib/python3.12/site-packages/EMDA/plotters.py:178\u001b[0m, in \u001b[0;36mplot_NACs\u001b[0;34m(self, analysis_name, merge_replicas, percentage, error_bar, bar_width, width, title, out_name)\u001b[0m\n\u001b[1;32m    176\u001b[0m     analysis_obj \u001b[38;5;241m=\u001b[39m \u001b[38;5;28mself\u001b[39m\n\u001b[1;32m    177\u001b[0m \u001b[38;5;28;01melse\u001b[39;00m :\n\u001b[0;32m--> 178\u001b[0m     analysis_obj \u001b[38;5;241m=\u001b[39m \u001b[38;5;28;43mself\u001b[39;49m\u001b[38;5;241;43m.\u001b[39;49m\u001b[43manalyses\u001b[49m\u001b[43m[\u001b[49m\u001b[43manalysis_name\u001b[49m\u001b[43m]\u001b[49m\n\u001b[1;32m    180\u001b[0m \u001b[38;5;28;01mif\u001b[39;00m analysis_obj\u001b[38;5;241m.\u001b[39mtype \u001b[38;5;129;01mnot\u001b[39;00m \u001b[38;5;129;01min\u001b[39;00m (\u001b[38;5;124m'\u001b[39m\u001b[38;5;124mvalue\u001b[39m\u001b[38;5;124m'\u001b[39m, \u001b[38;5;124m'\u001b[39m\u001b[38;5;124mNACs\u001b[39m\u001b[38;5;124m'\u001b[39m):\n\u001b[1;32m    181\u001b[0m     \u001b[38;5;28;01mraise\u001b[39;00m NotCompatibleMeasureForPlotterError\n",
      "\u001b[0;31mKeyError\u001b[0m: 'dist_H12_bool'"
     ]
    }
   ],
   "source": [
    "emda.plot_NACs('dist_H12_bool', merge_replicas=True, percentage=True, bar_width=0.1, width=4)"
   ]
  },
  {
   "cell_type": "code",
   "execution_count": null,
   "metadata": {},
   "outputs": [
    {
     "name": "stdout",
     "output_type": "stream",
     "text": [
      "\u001b[0;31mSignature:\u001b[0m\n",
      "\u001b[0memda\u001b[0m\u001b[0;34m.\u001b[0m\u001b[0madd_RMSD\u001b[0m\u001b[0;34m(\u001b[0m\u001b[0;34m\u001b[0m\n",
      "\u001b[0;34m\u001b[0m    \u001b[0mname\u001b[0m\u001b[0;34m,\u001b[0m\u001b[0;34m\u001b[0m\n",
      "\u001b[0;34m\u001b[0m    \u001b[0msel\u001b[0m\u001b[0;34m,\u001b[0m\u001b[0;34m\u001b[0m\n",
      "\u001b[0;34m\u001b[0m    \u001b[0mref\u001b[0m\u001b[0;34m=\u001b[0m\u001b[0;36m0\u001b[0m\u001b[0;34m,\u001b[0m\u001b[0;34m\u001b[0m\n",
      "\u001b[0;34m\u001b[0m    \u001b[0mcenter\u001b[0m\u001b[0;34m:\u001b[0m \u001b[0mbool\u001b[0m \u001b[0;34m=\u001b[0m \u001b[0;32mTrue\u001b[0m\u001b[0;34m,\u001b[0m\u001b[0;34m\u001b[0m\n",
      "\u001b[0;34m\u001b[0m    \u001b[0msuperposition\u001b[0m\u001b[0;34m:\u001b[0m \u001b[0mbool\u001b[0m \u001b[0;34m=\u001b[0m \u001b[0;32mTrue\u001b[0m\u001b[0;34m,\u001b[0m\u001b[0;34m\u001b[0m\n",
      "\u001b[0;34m\u001b[0m    \u001b[0mweights\u001b[0m\u001b[0;34m=\u001b[0m\u001b[0;32mNone\u001b[0m\u001b[0;34m,\u001b[0m\u001b[0;34m\u001b[0m\n",
      "\u001b[0;34m\u001b[0m\u001b[0;34m)\u001b[0m\u001b[0;34m\u001b[0m\u001b[0;34m\u001b[0m\u001b[0m\n",
      "\u001b[0;31mDocstring:\u001b[0m\n",
      "DESCRIPTION:\n",
      "    This function outputs the RMSD of a selection\n",
      "\n",
      "INPUT:\n",
      "    - name:     name of the measurement\n",
      "    - sel:      selection as EMDA.selection key\n",
      "    - ref:      reference universe. If not provided, the first frame will be used as the reference.\n",
      "    - center:   substracts the COM of the selection\n",
      "    - superposition [bool]: rotates and translates the frame to align the reference. Its activation forces center to be True by MDAnalysis' implementation\n",
      "\n",
      "OUTPUT:\n",
      "    - Array of RMSDs of each frame against a reference\n",
      "\u001b[0;31mFile:\u001b[0m      ~/miniconda3/envs/emda-dev/lib/python3.12/site-packages/EMDA/adders.py\n",
      "\u001b[0;31mType:\u001b[0m      method"
     ]
    }
   ],
   "source": [
    "?emda.add_RMSD"
   ]
  },
  {
   "cell_type": "code",
   "execution_count": null,
   "metadata": {},
   "outputs": [
    {
     "ename": "KeyError",
     "evalue": "'dist_dihe_NACs'",
     "output_type": "error",
     "traceback": [
      "\u001b[0;31m---------------------------------------------------------------------------\u001b[0m",
      "\u001b[0;31mKeyError\u001b[0m                                  Traceback (most recent call last)",
      "Cell \u001b[0;32mIn[18], line 1\u001b[0m\n\u001b[0;32m----> 1\u001b[0m \u001b[43memda\u001b[49m\u001b[38;5;241;43m.\u001b[39;49m\u001b[43mplot_NACs\u001b[49m\u001b[43m(\u001b[49m\u001b[38;5;124;43m'\u001b[39;49m\u001b[38;5;124;43mdist_dihe_NACs\u001b[39;49m\u001b[38;5;124;43m'\u001b[39;49m\u001b[43m,\u001b[49m\u001b[43m \u001b[49m\u001b[43mmerge_replicas\u001b[49m\u001b[38;5;241;43m=\u001b[39;49m\u001b[38;5;28;43;01mFalse\u001b[39;49;00m\u001b[43m,\u001b[49m\u001b[43m \u001b[49m\u001b[43mpercentage\u001b[49m\u001b[38;5;241;43m=\u001b[39;49m\u001b[38;5;28;43;01mFalse\u001b[39;49;00m\u001b[43m,\u001b[49m\u001b[43m \u001b[49m\u001b[43mbar_width\u001b[49m\u001b[38;5;241;43m=\u001b[39;49m\u001b[38;5;241;43m0.2\u001b[39;49m\u001b[43m)\u001b[49m\n",
      "File \u001b[0;32m~/miniconda3/envs/emda-dev/lib/python3.12/site-packages/EMDA/plotters.py:178\u001b[0m, in \u001b[0;36mplot_NACs\u001b[0;34m(self, analysis_name, merge_replicas, percentage, error_bar, bar_width, width, title, out_name)\u001b[0m\n\u001b[1;32m    176\u001b[0m     analysis_obj \u001b[38;5;241m=\u001b[39m \u001b[38;5;28mself\u001b[39m\n\u001b[1;32m    177\u001b[0m \u001b[38;5;28;01melse\u001b[39;00m :\n\u001b[0;32m--> 178\u001b[0m     analysis_obj \u001b[38;5;241m=\u001b[39m \u001b[38;5;28;43mself\u001b[39;49m\u001b[38;5;241;43m.\u001b[39;49m\u001b[43manalyses\u001b[49m\u001b[43m[\u001b[49m\u001b[43manalysis_name\u001b[49m\u001b[43m]\u001b[49m\n\u001b[1;32m    180\u001b[0m \u001b[38;5;28;01mif\u001b[39;00m analysis_obj\u001b[38;5;241m.\u001b[39mtype \u001b[38;5;129;01mnot\u001b[39;00m \u001b[38;5;129;01min\u001b[39;00m (\u001b[38;5;124m'\u001b[39m\u001b[38;5;124mvalue\u001b[39m\u001b[38;5;124m'\u001b[39m, \u001b[38;5;124m'\u001b[39m\u001b[38;5;124mNACs\u001b[39m\u001b[38;5;124m'\u001b[39m):\n\u001b[1;32m    181\u001b[0m     \u001b[38;5;28;01mraise\u001b[39;00m NotCompatibleMeasureForPlotterError\n",
      "\u001b[0;31mKeyError\u001b[0m: 'dist_dihe_NACs'"
     ]
    }
   ],
   "source": [
    "emda.plot_NACs('dist_dihe_NACs', merge_replicas=False, percentage=False, bar_width=0.2)"
   ]
  },
  {
   "cell_type": "markdown",
   "metadata": {},
   "source": [
    "## Analyse contacts"
   ]
  },
  {
   "cell_type": "code",
   "execution_count": null,
   "metadata": {},
   "outputs": [],
   "source": [
    "emda.analyse_contacts_frequency('contacts_COO_freq', 'contacts_COO', percentage=True)"
   ]
  },
  {
   "cell_type": "code",
   "execution_count": null,
   "metadata": {},
   "outputs": [
    {
     "data": {
      "text/plain": [
       "{'V1': {'R1': {'PHE174': 100.0,\n",
       "   'LEU178': 100.0,\n",
       "   'ARG402': 100.0,\n",
       "   'GLN406': 100.0,\n",
       "   'LEU407': 10.0},\n",
       "  'R2': {'PHE174': 100.0,\n",
       "   'LEU178': 100.0,\n",
       "   'ARG402': 100.0,\n",
       "   'GLN406': 100.0,\n",
       "   'LEU407': 10.0}},\n",
       " 'V2': {'R1': {'PHE174': 100.0,\n",
       "   'LEU178': 100.0,\n",
       "   'ARG402': 100.0,\n",
       "   'GLN406': 100.0,\n",
       "   'LEU407': 10.0},\n",
       "  'R2': {'PHE174': 100.0,\n",
       "   'LEU178': 100.0,\n",
       "   'ARG402': 100.0,\n",
       "   'GLN406': 100.0,\n",
       "   'LEU407': 10.0},\n",
       "  'R3': {'PHE174': 100.0,\n",
       "   'LEU178': 100.0,\n",
       "   'ARG402': 100.0,\n",
       "   'GLN406': 100.0,\n",
       "   'LEU407': 10.0}}}"
      ]
     },
     "execution_count": 20,
     "metadata": {},
     "output_type": "execute_result"
    }
   ],
   "source": [
    "emda.analyses['contacts_COO_freq'].result"
   ]
  },
  {
   "cell_type": "code",
   "execution_count": null,
   "metadata": {},
   "outputs": [
    {
     "data": {
      "image/png": "[encoded data removed]",
      "text/plain": [
       "<Figure size 1800x800 with 6 Axes>"
      ]
     },
     "metadata": {},
     "output_type": "display_data"
    }
   ],
   "source": [
    "# plotting from plotter\n",
    "emda.plot_contacts_frequency('contacts_COO_freq', width_per_replica=6, same_x=False, same_y=False, merge_replicas=False, bar_width=0.8)"
   ]
  },
  {
   "cell_type": "code",
   "execution_count": null,
   "metadata": {},
   "outputs": [
    {
     "data": {
      "image/png": "[encoded data removed]",
      "text/plain": [
       "<Figure size 1200x800 with 6 Axes>"
      ]
     },
     "metadata": {},
     "output_type": "display_data"
    }
   ],
   "source": [
    "# plotting from Analysis' plot method\n",
    "emda.analyses['contacts_COO_freq'].plot()"
   ]
  },
  {
   "cell_type": "code",
   "execution_count": 13,
   "metadata": {},
   "outputs": [],
   "source": [
    "emda.analyse_contacts_amount('contacts_COO_amount', 'contacts_COO')"
   ]
  },
  {
   "cell_type": "code",
   "execution_count": 14,
   "metadata": {},
   "outputs": [
    {
     "data": {
      "text/plain": [
       "{'mode': 'contacts'}"
      ]
     },
     "execution_count": 14,
     "metadata": {},
     "output_type": "execute_result"
    }
   ],
   "source": [
    "emda.analyses['contacts_COO_amount'].options"
   ]
  },
  {
   "cell_type": "code",
   "execution_count": 12,
   "metadata": {},
   "outputs": [
    {
     "data": {
      "image/png": "[encoded data removed]",
      "text/plain": [
       "<Figure size 400x800 with 2 Axes>"
      ]
     },
     "metadata": {},
     "output_type": "display_data"
    }
   ],
   "source": [
    "emda.analyses['contacts_COO_amount'].plot(merge_replicas=True)"
   ]
  },
  {
   "cell_type": "code",
   "execution_count": 16,
   "metadata": {},
   "outputs": [
    {
     "ename": "KeyError",
     "evalue": "'contacts_prot_amount'",
     "output_type": "error",
     "traceback": [
      "\u001b[0;31m---------------------------------------------------------------------------\u001b[0m",
      "\u001b[0;31mKeyError\u001b[0m                                  Traceback (most recent call last)",
      "Cell \u001b[0;32mIn[16], line 2\u001b[0m\n\u001b[1;32m      1\u001b[0m \u001b[38;5;66;03m# The Analysis' plot method nor the plot_measure plotter are compatible yet\u001b[39;00m\n\u001b[0;32m----> 2\u001b[0m \u001b[43memda\u001b[49m\u001b[38;5;241;43m.\u001b[39;49m\u001b[43manalyses\u001b[49m\u001b[43m[\u001b[49m\u001b[38;5;124;43m'\u001b[39;49m\u001b[38;5;124;43mcontacts_prot_amount\u001b[39;49m\u001b[38;5;124;43m'\u001b[39;49m\u001b[43m]\u001b[49m\u001b[38;5;241m.\u001b[39mplot()\n",
      "\u001b[0;31mKeyError\u001b[0m: 'contacts_prot_amount'"
     ]
    }
   ],
   "source": [
    "# The Analysis' plot method nor the plot_measure plotter are compatible yet\n",
    "emda.analyses['contacts_prot_amount'].plot()"
   ]
  },
  {
   "cell_type": "code",
   "execution_count": 17,
   "metadata": {},
   "outputs": [
    {
     "name": "stdout",
     "output_type": "stream",
     "text": [
      "{'V1': {'R1': [{'PHE174': 4.07980881465334, 'LEU178': 3.5435824880000375, 'ARG402': 1.9399333834911683, 'GLN406': 2.867864767800535, 'LEU407': 4.24181764223233}, {'PHE174': 4.4558988619008435, 'LEU178': 3.8466559600196835, 'ARG402': 1.8721366515157698, 'GLN406': 2.836182864593443}, {'PHE174': 3.6862194916378637, 'LEU178': 3.7155243912469964, 'ARG402': 1.9201518479778008, 'GLN406': 2.5640726493302677}, {'PHE174': 3.3549618547451088, 'LEU178': 4.178788656048772, 'ARG402': 1.751238839056139, 'GLN406': 2.9398608975847096}, {'PHE174': 4.025384584892292, 'LEU178': 4.63404880443787, 'ARG402': 1.8513355559435591, 'GLN406': 3.0151037695042144}, {'PHE174': 3.432455444286102, 'LEU178': 3.9452616933467906, 'ARG402': 2.0385103291148017, 'GLN406': 4.03837910384994}, {'PHE174': 4.492118366836145, 'LEU178': 4.012912198938719, 'ARG402': 1.7890444560801069, 'GLN406': 3.6012818873709262}, {'PHE174': 3.7858386697941766, 'LEU178': 4.204576690912167, 'ARG402': 1.8285848491558256, 'GLN406': 2.7939902886218118}, {'PHE174': 3.503706745791068, 'LEU178': 4.162592163622426, 'ARG402': 1.803715038638585, 'GLN406': 2.6346966033339463}, {'PHE174': 4.330417364302714, 'LEU178': 4.167656661827019, 'ARG402': 1.7549466572139687, 'GLN406': 2.6078065949261804}], 'R2': [{'PHE174': 4.07980881465334, 'LEU178': 3.5435824880000375, 'ARG402': 1.9399333834911683, 'GLN406': 2.867864767800535, 'LEU407': 4.24181764223233}, {'PHE174': 4.4558988619008435, 'LEU178': 3.8466559600196835, 'ARG402': 1.8721366515157698, 'GLN406': 2.836182864593443}, {'PHE174': 3.6862194916378637, 'LEU178': 3.7155243912469964, 'ARG402': 1.9201518479778008, 'GLN406': 2.5640726493302677}, {'PHE174': 3.3549618547451088, 'LEU178': 4.178788656048772, 'ARG402': 1.751238839056139, 'GLN406': 2.9398608975847096}, {'PHE174': 4.025384584892292, 'LEU178': 4.63404880443787, 'ARG402': 1.8513355559435591, 'GLN406': 3.0151037695042144}, {'PHE174': 3.432455444286102, 'LEU178': 3.9452616933467906, 'ARG402': 2.0385103291148017, 'GLN406': 4.03837910384994}, {'PHE174': 4.492118366836145, 'LEU178': 4.012912198938719, 'ARG402': 1.7890444560801069, 'GLN406': 3.6012818873709262}, {'PHE174': 3.7858386697941766, 'LEU178': 4.204576690912167, 'ARG402': 1.8285848491558256, 'GLN406': 2.7939902886218118}, {'PHE174': 3.503706745791068, 'LEU178': 4.162592163622426, 'ARG402': 1.803715038638585, 'GLN406': 2.6346966033339463}, {'PHE174': 4.330417364302714, 'LEU178': 4.167656661827019, 'ARG402': 1.7549466572139687, 'GLN406': 2.6078065949261804}]}, 'V2': {'R1': [{'PHE174': 4.07980881465334, 'LEU178': 3.5435824880000375, 'ARG402': 1.9399333834911683, 'GLN406': 2.867864767800535, 'LEU407': 4.24181764223233}, {'PHE174': 4.4558988619008435, 'LEU178': 3.8466559600196835, 'ARG402': 1.8721366515157698, 'GLN406': 2.836182864593443}, {'PHE174': 3.6862194916378637, 'LEU178': 3.7155243912469964, 'ARG402': 1.9201518479778008, 'GLN406': 2.5640726493302677}, {'PHE174': 3.3549618547451088, 'LEU178': 4.178788656048772, 'ARG402': 1.751238839056139, 'GLN406': 2.9398608975847096}, {'PHE174': 4.025384584892292, 'LEU178': 4.63404880443787, 'ARG402': 1.8513355559435591, 'GLN406': 3.0151037695042144}, {'PHE174': 3.432455444286102, 'LEU178': 3.9452616933467906, 'ARG402': 2.0385103291148017, 'GLN406': 4.03837910384994}, {'PHE174': 4.492118366836145, 'LEU178': 4.012912198938719, 'ARG402': 1.7890444560801069, 'GLN406': 3.6012818873709262}, {'PHE174': 3.7858386697941766, 'LEU178': 4.204576690912167, 'ARG402': 1.8285848491558256, 'GLN406': 2.7939902886218118}, {'PHE174': 3.503706745791068, 'LEU178': 4.162592163622426, 'ARG402': 1.803715038638585, 'GLN406': 2.6346966033339463}, {'PHE174': 4.330417364302714, 'LEU178': 4.167656661827019, 'ARG402': 1.7549466572139687, 'GLN406': 2.6078065949261804}], 'R2': [{'PHE174': 4.07980881465334, 'LEU178': 3.5435824880000375, 'ARG402': 1.9399333834911683, 'GLN406': 2.867864767800535, 'LEU407': 4.24181764223233}, {'PHE174': 4.4558988619008435, 'LEU178': 3.8466559600196835, 'ARG402': 1.8721366515157698, 'GLN406': 2.836182864593443}, {'PHE174': 3.6862194916378637, 'LEU178': 3.7155243912469964, 'ARG402': 1.9201518479778008, 'GLN406': 2.5640726493302677}, {'PHE174': 3.3549618547451088, 'LEU178': 4.178788656048772, 'ARG402': 1.751238839056139, 'GLN406': 2.9398608975847096}, {'PHE174': 4.025384584892292, 'LEU178': 4.63404880443787, 'ARG402': 1.8513355559435591, 'GLN406': 3.0151037695042144}, {'PHE174': 3.432455444286102, 'LEU178': 3.9452616933467906, 'ARG402': 2.0385103291148017, 'GLN406': 4.03837910384994}, {'PHE174': 4.492118366836145, 'LEU178': 4.012912198938719, 'ARG402': 1.7890444560801069, 'GLN406': 3.6012818873709262}, {'PHE174': 3.7858386697941766, 'LEU178': 4.204576690912167, 'ARG402': 1.8285848491558256, 'GLN406': 2.7939902886218118}, {'PHE174': 3.503706745791068, 'LEU178': 4.162592163622426, 'ARG402': 1.803715038638585, 'GLN406': 2.6346966033339463}, {'PHE174': 4.330417364302714, 'LEU178': 4.167656661827019, 'ARG402': 1.7549466572139687, 'GLN406': 2.6078065949261804}], 'R3': [{'PHE174': 4.07980881465334, 'LEU178': 3.5435824880000375, 'ARG402': 1.9399333834911683, 'GLN406': 2.867864767800535, 'LEU407': 4.24181764223233}, {'PHE174': 4.4558988619008435, 'LEU178': 3.8466559600196835, 'ARG402': 1.8721366515157698, 'GLN406': 2.836182864593443}, {'PHE174': 3.6862194916378637, 'LEU178': 3.7155243912469964, 'ARG402': 1.9201518479778008, 'GLN406': 2.5640726493302677}, {'PHE174': 3.3549618547451088, 'LEU178': 4.178788656048772, 'ARG402': 1.751238839056139, 'GLN406': 2.9398608975847096}, {'PHE174': 4.025384584892292, 'LEU178': 4.63404880443787, 'ARG402': 1.8513355559435591, 'GLN406': 3.0151037695042144}, {'PHE174': 3.432455444286102, 'LEU178': 3.9452616933467906, 'ARG402': 2.0385103291148017, 'GLN406': 4.03837910384994}, {'PHE174': 4.492118366836145, 'LEU178': 4.012912198938719, 'ARG402': 1.7890444560801069, 'GLN406': 3.6012818873709262}, {'PHE174': 3.7858386697941766, 'LEU178': 4.204576690912167, 'ARG402': 1.8285848491558256, 'GLN406': 2.7939902886218118}, {'PHE174': 3.503706745791068, 'LEU178': 4.162592163622426, 'ARG402': 1.803715038638585, 'GLN406': 2.6346966033339463}, {'PHE174': 4.330417364302714, 'LEU178': 4.167656661827019, 'ARG402': 1.7549466572139687, 'GLN406': 2.6078065949261804}]}}\n"
     ]
    }
   ],
   "source": [
    "print(emda.measures['contacts_COO'].result)"
   ]
  },
  {
   "cell_type": "code",
   "execution_count": 18,
   "metadata": {},
   "outputs": [],
   "source": [
    "emda.analyse_contacts_presence('contacts_presence', 'contacts_COO', ['402', '407'], mode='all')"
   ]
  },
  {
   "cell_type": "code",
   "execution_count": 19,
   "metadata": {},
   "outputs": [
    {
     "data": {
      "text/plain": [
       "{'V1': {'R1': [True,\n",
       "   False,\n",
       "   False,\n",
       "   False,\n",
       "   False,\n",
       "   False,\n",
       "   False,\n",
       "   False,\n",
       "   False,\n",
       "   False],\n",
       "  'R2': [True, False, False, False, False, False, False, False, False, False]},\n",
       " 'V2': {'R1': [True,\n",
       "   False,\n",
       "   False,\n",
       "   False,\n",
       "   False,\n",
       "   False,\n",
       "   False,\n",
       "   False,\n",
       "   False,\n",
       "   False],\n",
       "  'R2': [True, False, False, False, False, False, False, False, False, False],\n",
       "  'R3': [True, False, False, False, False, False, False, False, False, False]}}"
      ]
     },
     "execution_count": 19,
     "metadata": {},
     "output_type": "execute_result"
    }
   ],
   "source": [
    "emda.analyses['contacts_presence'].result"
   ]
  },
  {
   "cell_type": "code",
   "execution_count": 20,
   "metadata": {},
   "outputs": [
    {
     "name": "stdout",
     "output_type": "stream",
     "text": [
      "EMDA's measures and analyses have been saved as EMDA.yaml\n"
     ]
    }
   ],
   "source": [
    "emda.save(out_format='yaml')"
   ]
  },
  {
   "cell_type": "code",
   "execution_count": null,
   "metadata": {},
   "outputs": [],
   "source": []
  },
  {
   "cell_type": "code",
   "execution_count": null,
   "metadata": {},
   "outputs": [],
   "source": []
  },
  {
   "cell_type": "code",
   "execution_count": null,
   "metadata": {},
   "outputs": [],
   "source": []
  }
 ],
 "metadata": {
  "kernelspec": {
   "display_name": "Python 3 (ipykernel)",
   "language": "python",
   "name": "python3"
  },
  "language_info": {
   "codemirror_mode": {
    "name": "ipython",
    "version": 3
   },
   "file_extension": ".py",
   "mimetype": "text/x-python",
   "name": "python",
   "nbconvert_exporter": "python",
   "pygments_lexer": "ipython3",
   "version": "3.12.1"
  }
 },
 "nbformat": 4,
 "nbformat_minor": 4
}
