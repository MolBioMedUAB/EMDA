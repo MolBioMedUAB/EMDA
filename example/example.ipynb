{
 "cells": [
  {
   "cell_type": "code",
   "execution_count": 1,
   "metadata": {},
   "outputs": [
    {
     "name": "stdout",
     "output_type": "stream",
     "text": [
      "EMDA version is: 1.0.0a4\n"
     ]
    }
   ],
   "source": [
    "from EMDA import EMDA, __version__\n",
    "print(\"EMDA version is:\", __version__)\n",
    "\n",
    "from numpy import average\n",
    "\n",
    "import matplotlib.pyplot as plt\n",
    "\n",
    "\n",
    "plt.style.use('ggplot')"
   ]
  },
  {
   "cell_type": "markdown",
   "metadata": {},
   "source": [
    "# Load parameters and trajectory <a class=\"anchor\" id=\"load\"></a>"
   ]
  },
  {
   "cell_type": "code",
   "execution_count": 2,
   "metadata": {},
   "outputs": [],
   "source": [
    "parameters = 'parameters.prmtop' # AMBER parameters file\n",
    "trajectory = 'trajectory.nc'     # AMBER NetCDF coordinates (10 frames)"
   ]
  },
  {
   "cell_type": "code",
   "execution_count": 3,
   "metadata": {},
   "outputs": [
    {
     "name": "stdout",
     "output_type": "stream",
     "text": [
      "Trajectory has been loaded!\n"
     ]
    }
   ],
   "source": [
    "emda = EMDA(parameters=parameters, trajectory=trajectory)"
   ]
  },
  {
   "cell_type": "code",
   "execution_count": 4,
   "metadata": {},
   "outputs": [],
   "source": [
    "#emda.load_variant(parameters, trajectory)"
   ]
  },
  {
   "cell_type": "code",
   "execution_count": 5,
   "metadata": {},
   "outputs": [
    {
     "name": "stdout",
     "output_type": "stream",
     "text": [
      "A new replica has been loaded to variant V1!\n"
     ]
    }
   ],
   "source": [
    "emda.load_trajectory(trajectory)\n",
    "#emda.load_trajectory(trajectory, variant_name='V1')\n",
    "#emda.load_trajectory(trajectory)\n",
    "#emda.load_trajectory(trajectory)\n",
    "\n"
   ]
  },
  {
   "cell_type": "code",
   "execution_count": 6,
   "metadata": {},
   "outputs": [
    {
     "data": {
      "text/plain": [
       "{'V1': {'R1': <Universe with 79250 atoms>, 'R2': <Universe with 79250 atoms>}}"
      ]
     },
     "execution_count": 6,
     "metadata": {},
     "output_type": "execute_result"
    }
   ],
   "source": [
    "emda.universe"
   ]
  },
  {
   "cell_type": "markdown",
   "metadata": {},
   "source": [
    "# Select the atoms to be used for the analysis <a class=\"anchor\" id=\"select\"></a>"
   ]
  },
  {
   "cell_type": "code",
   "execution_count": 7,
   "metadata": {},
   "outputs": [
    {
     "name": "stdout",
     "output_type": "stream",
     "text": [
      "{'C10': 'name C10', 'C11': 'name C11', 'C12': 'name C12', 'C13': 'name C13', 'C14': 'name C14', 'H12': 'name H12A or name H12B', 'cof': 'bynum 10597', 'COO': 'bynum 10599 or bynum 10600 or bynum 10601', 'subs': 'resid 666'}\n"
     ]
    }
   ],
   "source": [
    "emda.select('C10', 'C10', sel_type='at_name',)\n",
    "emda.select('C11', 'C11', sel_type='at_name',)\n",
    "emda.select('C12', 'C12', sel_type='at_name',)\n",
    "emda.select('C13', 'C13', sel_type='at_name')\n",
    "emda.select('C14', 'C14', sel_type='at_name',)\n",
    "emda.select('H12', ['H12A', 'H12B'], sel_type='at_name')\n",
    "emda.select('cof', 10597, sel_type='at_num')\n",
    "\n",
    "emda.select('COO', [10599, 10600, 10601], sel_type='at_num')\n",
    "\n",
    "#subs = emda.universe.select_atoms('resid 666')\n",
    "emda.select('subs', 666, sel_type='res_num')\n",
    "\n",
    "print(emda.selections)"
   ]
  },
  {
   "cell_type": "markdown",
   "metadata": {},
   "source": [
    "# Analysis of the trajectory <a class=\"anchor\" id=\"trajanalysis\"></a>"
   ]
  },
  {
   "cell_type": "code",
   "execution_count": 8,
   "metadata": {},
   "outputs": [],
   "source": [
    "emda.add_distance('dist_H12', 'cof', 'H12')\n",
    "emda.add_angle('angle_C11C12C13', 'C11', 'C12', 'C13')\n",
    "emda.add_dihedral('dihe_C10C11C13C14', 'C10', 'C11', 'C13', 'C14', domain=180)\n",
    "#emda.add_contacts('contacts_COO', 'COO', sel_env=5, interactions='all', include_WAT=True, measure_distances=True)\n",
    "#emda.add_protein_contacts('contacts_prot', sel_env=3, measure_distances=True)\n",
    "#emda.add_pKa('pka', excluded_ions=['Na+'], keep_pdb=True, keep_pka=True)\n",
    "#emda.add_RMSD('RMSD_subs', 'subs', weights='mass')"
   ]
  },
  {
   "cell_type": "markdown",
   "metadata": {},
   "source": [
    "## Run the measurements"
   ]
  },
  {
   "cell_type": "code",
   "execution_count": 9,
   "metadata": {},
   "outputs": [
    {
     "name": "stdout",
     "output_type": "stream",
     "text": [
      "{'dist_H12': Measure dataclass with:\n",
      "\tName:   dist_H12\n",
      "\tType:   distance\n",
      "\tSel:    ['cof', 'H12']\n",
      "\tStatus: \n",
      "\t\tV1, R1: Not calculated\n",
      "\t\tV1, R2: Not calculated\n",
      ", 'angle_C11C12C13': Measure dataclass with:\n",
      "\tName:   angle_C11C12C13\n",
      "\tType:   angle\n",
      "\tSel:    ['C11', 'C12', 'C13']\n",
      "\tStatus: \n",
      "\t\tV1, R1: Not calculated\n",
      "\t\tV1, R2: Not calculated\n",
      ", 'dihe_C10C11C13C14': Measure dataclass with:\n",
      "\tName:   dihe_C10C11C13C14\n",
      "\tType:   dihedral\n",
      "\tSel:    ['C10', 'C11', 'C13', 'C14']\n",
      "\tStatus: \n",
      "\t\tV1, R1: Not calculated\n",
      "\t\tV1, R2: Not calculated\n",
      "}\n"
     ]
    }
   ],
   "source": [
    "print(emda.measures)"
   ]
  },
  {
   "cell_type": "code",
   "execution_count": 10,
   "metadata": {},
   "outputs": [
    {
     "name": "stdout",
     "output_type": "stream",
     "text": [
      "single variant, multireplica\n"
     ]
    },
    {
     "data": {
      "application/vnd.jupyter.widget-view+json": {
       "model_id": "4e2226413de543e7aceac85eb301b0a8",
       "version_major": 2,
       "version_minor": 0
      },
      "text/plain": [
       "Replica:   0%|          | 0/2 [00:00<?, ?rep/s]"
      ]
     },
     "metadata": {},
     "output_type": "display_data"
    },
    {
     "data": {
      "application/vnd.jupyter.widget-view+json": {
       "model_id": "b19b5c0eda274b3e8d461130822348c3",
       "version_major": 2,
       "version_minor": 0
      },
      "text/plain": [
       "Measuring variant V1, replica R1:   0%|          | 0/10 [00:00<?, ?Frame/s]"
      ]
     },
     "metadata": {},
     "output_type": "display_data"
    },
    {
     "data": {
      "application/vnd.jupyter.widget-view+json": {
       "model_id": "f65d06bfaf844693907140f8bb3b416b",
       "version_major": 2,
       "version_minor": 0
      },
      "text/plain": [
       "Measuring variant V1, replica R2:   0%|          | 0/10 [00:00<?, ?Frame/s]"
      ]
     },
     "metadata": {},
     "output_type": "display_data"
    }
   ],
   "source": [
    "emda.run(sleep_time=0)"
   ]
  },
  {
   "cell_type": "markdown",
   "metadata": {},
   "source": [
    "emda.measures['dist_H12'].result"
   ]
  },
  {
   "cell_type": "code",
   "execution_count": 11,
   "metadata": {},
   "outputs": [
    {
     "data": {
      "image/png": "[encoded data removed]",
      "text/plain": [
       "<Figure size 800x400 with 2 Axes>"
      ]
     },
     "metadata": {},
     "output_type": "display_data"
    }
   ],
   "source": [
    "emda.plot_measure(measure_name='angle_C11C12C13', combine_replicas=False, width_per_replica=4)"
   ]
  },
  {
   "cell_type": "markdown",
   "metadata": {},
   "source": [
    "## Analyse distances, angles and dihedrals"
   ]
  },
  {
   "cell_type": "code",
   "execution_count": 12,
   "metadata": {},
   "outputs": [],
   "source": [
    "emda.analyse_value('dist_H12_bool', 'dist_H12', 5)\n",
    "emda.analyse_value('dihe_C10C11C13C14_bool', 'dihe_C10C11C13C14', 0, 20, mode='tol')"
   ]
  },
  {
   "cell_type": "code",
   "execution_count": 13,
   "metadata": {},
   "outputs": [
    {
     "data": {
      "text/plain": [
       "Analysis dataclass with:\n",
       "\tName:   dist_H12_bool\n",
       "\tType:   value\n",
       "\tRelated mesure:    dist_H12"
      ]
     },
     "execution_count": 13,
     "metadata": {},
     "output_type": "execute_result"
    }
   ],
   "source": [
    "emda.analyses['dist_H12_bool']"
   ]
  },
  {
   "cell_type": "code",
   "execution_count": 14,
   "metadata": {},
   "outputs": [
    {
     "data": {
      "text/plain": [
       "{'V1': {'R1': [True, True, True, True, True, True, False, True, True, True],\n",
       "  'R2': [True, True, True, True, True, True, False, True, True, True]}}"
      ]
     },
     "execution_count": 14,
     "metadata": {},
     "output_type": "execute_result"
    }
   ],
   "source": [
    "emda.analyses['dihe_C10C11C13C14_bool'].result"
   ]
  },
  {
   "cell_type": "markdown",
   "metadata": {},
   "source": [
    "print('angle_C11C12C13 average is:', average(emda.measures['angle_C11C12C13'].result))\n",
    "print('angle_C11C12C13 min is:', min(emda.measures['angle_C11C12C13'].result))\n",
    "print('angle_C11C12C13 max is:', max(emda.measures['angle_C11C12C13'].result))"
   ]
  },
  {
   "cell_type": "markdown",
   "metadata": {},
   "source": [
    "emda.analyse_value('angle_C11C12C13_bool', 'angle_C11C12C13', 110, 5, mode='tol')"
   ]
  },
  {
   "cell_type": "markdown",
   "metadata": {},
   "source": [
    "emda.analyses"
   ]
  },
  {
   "cell_type": "code",
   "execution_count": 15,
   "metadata": {},
   "outputs": [],
   "source": [
    "emda.analyse_NACs('dist_dihe_NACs', ['dist_H12_bool', 'dihe_C10C11C13C14_bool'], invert=False)\n"
   ]
  },
  {
   "cell_type": "code",
   "execution_count": 16,
   "metadata": {},
   "outputs": [
    {
     "data": {
      "text/plain": [
       "{'V1': {'R1': [True, True, True, True, True, True, False, False, False, False],\n",
       "  'R2': [True, True, True, True, True, True, False, False, False, False]}}"
      ]
     },
     "execution_count": 16,
     "metadata": {},
     "output_type": "execute_result"
    }
   ],
   "source": [
    "emda.analyses['dist_dihe_NACs'].result"
   ]
  },
  {
   "cell_type": "markdown",
   "metadata": {},
   "source": [
    "emda.analyses['dist_dihe_NACs'].result = {'V1': {'R1': [True, True, True, True, True, True, False, False, False, False],\n",
    "  'R2': [False, False, False, False, True, False, False, False, False, False]},\n",
    " 'V2': {'R1': [False, True, True, True, True, True, False, False, False, False],\n",
    "  'R2': [True, False, True, False, True, False, False, False, True, False],\n",
    "  'R3': [False, False, True, False, True, False, False, False, True, False]}}"
   ]
  },
  {
   "cell_type": "code",
   "execution_count": 17,
   "metadata": {},
   "outputs": [
    {
     "name": "stdout",
     "output_type": "stream",
     "text": [
      "\u001b[0;31mSignature:\u001b[0m\n",
      "\u001b[0memda\u001b[0m\u001b[0;34m.\u001b[0m\u001b[0mplot_NACs\u001b[0m\u001b[0;34m(\u001b[0m\u001b[0;34m\u001b[0m\n",
      "\u001b[0;34m\u001b[0m    \u001b[0manalysis_name\u001b[0m\u001b[0;34m,\u001b[0m\u001b[0;34m\u001b[0m\n",
      "\u001b[0;34m\u001b[0m    \u001b[0mmerge_replicas\u001b[0m\u001b[0;34m=\u001b[0m\u001b[0;32mFalse\u001b[0m\u001b[0;34m,\u001b[0m\u001b[0;34m\u001b[0m\n",
      "\u001b[0;34m\u001b[0m    \u001b[0mpercentage\u001b[0m\u001b[0;34m=\u001b[0m\u001b[0;32mFalse\u001b[0m\u001b[0;34m,\u001b[0m\u001b[0;34m\u001b[0m\n",
      "\u001b[0;34m\u001b[0m    \u001b[0merror_bar\u001b[0m\u001b[0;34m=\u001b[0m\u001b[0;32mTrue\u001b[0m\u001b[0;34m,\u001b[0m\u001b[0;34m\u001b[0m\n",
      "\u001b[0;34m\u001b[0m    \u001b[0mbar_width\u001b[0m\u001b[0;34m=\u001b[0m\u001b[0;36m0.1\u001b[0m\u001b[0;34m,\u001b[0m\u001b[0;34m\u001b[0m\n",
      "\u001b[0;34m\u001b[0m    \u001b[0mwidth\u001b[0m\u001b[0;34m=\u001b[0m\u001b[0;32mNone\u001b[0m\u001b[0;34m,\u001b[0m\u001b[0;34m\u001b[0m\n",
      "\u001b[0;34m\u001b[0m    \u001b[0mtitle\u001b[0m\u001b[0;34m=\u001b[0m\u001b[0;32mNone\u001b[0m\u001b[0;34m,\u001b[0m\u001b[0;34m\u001b[0m\n",
      "\u001b[0;34m\u001b[0m    \u001b[0mout_name\u001b[0m\u001b[0;34m=\u001b[0m\u001b[0;32mFalse\u001b[0m\u001b[0;34m,\u001b[0m\u001b[0;34m\u001b[0m\n",
      "\u001b[0;34m\u001b[0m\u001b[0;34m)\u001b[0m\u001b[0;34m\u001b[0m\u001b[0;34m\u001b[0m\u001b[0m\n",
      "\u001b[0;31mDocstring:\u001b[0m\n",
      "DESCRIPTION:\n",
      "    Function for plotting NACs (or value-type Analysis) as a bar plot where all the variants are compared\n",
      "\u001b[0;31mFile:\u001b[0m      ~/miniconda3/envs/emda-dev/lib/python3.12/site-packages/EMDA/plotters.py\n",
      "\u001b[0;31mType:\u001b[0m      method"
     ]
    }
   ],
   "source": [
    "?emda.plot_NACs"
   ]
  },
  {
   "cell_type": "code",
   "execution_count": 24,
   "metadata": {},
   "outputs": [
    {
     "data": {
      "image/png": "[encoded data removed]",
      "text/plain": [
       "<Figure size 400x480 with 1 Axes>"
      ]
     },
     "metadata": {},
     "output_type": "display_data"
    }
   ],
   "source": [
    "emda.plot_NACs('dist_dihe_NACs', merge_replicas=True, percentage=True, bar_width=0.1, width=4)"
   ]
  },
  {
   "cell_type": "code",
   "execution_count": 22,
   "metadata": {},
   "outputs": [
    {
     "name": "stdout",
     "output_type": "stream",
     "text": [
      "{'R1': [6], 'R2': [6]}\n"
     ]
    },
    {
     "data": {
      "image/png": "[encoded data removed]",
      "text/plain": [
       "<Figure size 200x480 with 1 Axes>"
      ]
     },
     "metadata": {},
     "output_type": "display_data"
    }
   ],
   "source": [
    "emda.plot_NACs('dist_dihe_NACs', merge_replicas=False, percentage=False, bar_width=0.2)"
   ]
  },
  {
   "cell_type": "code",
   "execution_count": null,
   "metadata": {},
   "outputs": [],
   "source": []
  },
  {
   "cell_type": "markdown",
   "metadata": {},
   "source": [
    "print('dist_H12_bool:\\t\\t\\t', emda.analyses['dist_H12_bool'].result)\n",
    "print('angle_C11C12C13_bool:\\t\\t', emda.analyses['angle_C11C12C13_bool'].result)\n",
    "print('dist_angle_NACs:\\t\\t', emda.analyses['dist_angle_NACs'].result)"
   ]
  },
  {
   "cell_type": "markdown",
   "metadata": {},
   "source": [
    "## Analyse contacts"
   ]
  },
  {
   "cell_type": "markdown",
   "metadata": {},
   "source": [
    "emda.analyse_contacts_frequency('contacts_COO_freq', 'contacts_COO')"
   ]
  },
  {
   "cell_type": "markdown",
   "metadata": {},
   "source": [
    "emda.analyses['contacts_COO_freq'].result['V1']['R2']"
   ]
  },
  {
   "cell_type": "code",
   "execution_count": 19,
   "metadata": {},
   "outputs": [
    {
     "ename": "KeyError",
     "evalue": "'contacts_prot'",
     "output_type": "error",
     "traceback": [
      "\u001b[0;31m---------------------------------------------------------------------------\u001b[0m",
      "\u001b[0;31mKeyError\u001b[0m                                  Traceback (most recent call last)",
      "Cell \u001b[0;32mIn[19], line 2\u001b[0m\n\u001b[1;32m      1\u001b[0m \u001b[38;5;66;03m#emda.analyse_contacts_frequency('contacts_prot_freq', 'contacts_prot', percentage=True, normalise_to_most_frequent=True)\u001b[39;00m\n\u001b[0;32m----> 2\u001b[0m \u001b[43memda\u001b[49m\u001b[38;5;241;43m.\u001b[39;49m\u001b[43manalyse_contacts_amount\u001b[49m\u001b[43m(\u001b[49m\u001b[38;5;124;43m'\u001b[39;49m\u001b[38;5;124;43mcontacts_prot_amount\u001b[39;49m\u001b[38;5;124;43m'\u001b[39;49m\u001b[43m,\u001b[49m\u001b[43m \u001b[49m\u001b[38;5;124;43m'\u001b[39;49m\u001b[38;5;124;43mcontacts_prot\u001b[39;49m\u001b[38;5;124;43m'\u001b[39;49m\u001b[43m)\u001b[49m\n\u001b[1;32m      4\u001b[0m emda\u001b[38;5;241m.\u001b[39manalyses[\u001b[38;5;124m'\u001b[39m\u001b[38;5;124mcontacts_prot_amount\u001b[39m\u001b[38;5;124m'\u001b[39m]\u001b[38;5;241m.\u001b[39mresult[\u001b[38;5;124m'\u001b[39m\u001b[38;5;124mV1\u001b[39m\u001b[38;5;124m'\u001b[39m][\u001b[38;5;124m'\u001b[39m\u001b[38;5;124mR1\u001b[39m\u001b[38;5;124m'\u001b[39m]\n",
      "File \u001b[0;32m~/miniconda3/envs/emda-dev/lib/python3.12/site-packages/EMDA/analysers.py:252\u001b[0m, in \u001b[0;36manalyse_contacts_amount\u001b[0;34m(self, name, measure)\u001b[0m\n\u001b[1;32m    239\u001b[0m \u001b[38;5;28;01mdef\u001b[39;00m \u001b[38;5;21manalyse_contacts_amount\u001b[39m(\u001b[38;5;28mself\u001b[39m, name, measure):\n\u001b[1;32m    240\u001b[0m \u001b[38;5;250m    \u001b[39m\u001b[38;5;124;03m\"\"\"\u001b[39;00m\n\u001b[1;32m    241\u001b[0m \u001b[38;5;124;03m    DESCRIPTION:\u001b[39;00m\n\u001b[1;32m    242\u001b[0m \u001b[38;5;124;03m        Analyser for calculating how much contacts take place in each frame\u001b[39;00m\n\u001b[0;32m   (...)\u001b[0m\n\u001b[1;32m    249\u001b[0m \u001b[38;5;124;03m            A frame-wise list containing the number of contacts for each frame.\u001b[39;00m\n\u001b[1;32m    250\u001b[0m \u001b[38;5;124;03m    \"\"\"\u001b[39;00m\n\u001b[0;32m--> 252\u001b[0m     \u001b[38;5;28;01mif\u001b[39;00m \u001b[38;5;28;43mself\u001b[39;49m\u001b[38;5;241;43m.\u001b[39;49m\u001b[43mmeasures\u001b[49m\u001b[43m[\u001b[49m\u001b[43mmeasure\u001b[49m\u001b[43m]\u001b[49m\u001b[38;5;241m.\u001b[39mtype  \u001b[38;5;241m==\u001b[39m \u001b[38;5;124m\"\u001b[39m\u001b[38;5;124mcontacts\u001b[39m\u001b[38;5;124m\"\u001b[39m:\n\u001b[1;32m    254\u001b[0m         contacts_amount \u001b[38;5;241m=\u001b[39m get_dictionary_structure(\u001b[38;5;28mself\u001b[39m\u001b[38;5;241m.\u001b[39mmeasures[measure]\u001b[38;5;241m.\u001b[39mresult, [])\n\u001b[1;32m    255\u001b[0m         \u001b[38;5;28;01mfor\u001b[39;00m variant \u001b[38;5;129;01min\u001b[39;00m \u001b[38;5;28mlist\u001b[39m(\u001b[38;5;28mself\u001b[39m\u001b[38;5;241m.\u001b[39mmeasures[measure]\u001b[38;5;241m.\u001b[39mresult\u001b[38;5;241m.\u001b[39mkeys()):\n",
      "\u001b[0;31mKeyError\u001b[0m: 'contacts_prot'"
     ]
    }
   ],
   "source": [
    "#emda.analyse_contacts_frequency('contacts_prot_freq', 'contacts_prot', percentage=True, normalise_to_most_frequent=True)\n",
    "emda.analyse_contacts_amount('contacts_prot_amount', 'contacts_prot')\n",
    "\n",
    "emda.analyses['contacts_prot_amount'].result['V1']['R1']"
   ]
  },
  {
   "cell_type": "code",
   "execution_count": null,
   "metadata": {},
   "outputs": [
    {
     "data": {
      "text/plain": [
       "[19, 17, 19, 15, 15, 17, 19, 14, 15, 16]"
      ]
     },
     "execution_count": 22,
     "metadata": {},
     "output_type": "execute_result"
    }
   ],
   "source": [
    "#emda.analyse_contacts_frequency('contacts_COO_freq', 'contacts_COO', percentage=True, normalise_to_most_frequent=True)\n",
    "emda.analyse_contacts_amount('contacts_COO_amount', 'contacts_COO')\n",
    "\n",
    "emda.analyses['contacts_COO_amount'].result['V1']['R1']"
   ]
  },
  {
   "cell_type": "code",
   "execution_count": null,
   "metadata": {},
   "outputs": [],
   "source": []
  }
 ],
 "metadata": {
  "kernelspec": {
   "display_name": "Python 3 (ipykernel)",
   "language": "python",
   "name": "python3"
  },
  "language_info": {
   "codemirror_mode": {
    "name": "ipython",
    "version": 3
   },
   "file_extension": ".py",
   "mimetype": "text/x-python",
   "name": "python",
   "nbconvert_exporter": "python",
   "pygments_lexer": "ipython3",
   "version": "3.12.1"
  }
 },
 "nbformat": 4,
 "nbformat_minor": 4
}
