{
 "cells": [
  {
   "cell_type": "code",
   "execution_count": 1,
   "metadata": {},
   "outputs": [
    {
     "name": "stderr",
     "output_type": "stream",
     "text": [
      "/Users/mikicanyelles/miniconda3/envs/emda-dev/lib/python3.12/site-packages/tqdm/auto.py:21: TqdmWarning: IProgress not found. Please update jupyter and ipywidgets. See https://ipywidgets.readthedocs.io/en/stable/user_install.html\n",
      "  from .autonotebook import tqdm as notebook_tqdm\n"
     ]
    },
    {
     "name": "stdout",
     "output_type": "stream",
     "text": [
      "EMDA version is: 0.2.0a2\n"
     ]
    }
   ],
   "source": [
    "from EMDA import EMDA, __version__\n",
    "print(\"EMDA version is:\", __version__)\n",
    "\n",
    "from numpy import average\n",
    "\n",
    "import matplotlib.pyplot as plt"
   ]
  },
  {
   "cell_type": "markdown",
   "metadata": {},
   "source": [
    "# Load parameters and trajectory <a class=\"anchor\" id=\"load\"></a>"
   ]
  },
  {
   "cell_type": "code",
   "execution_count": 2,
   "metadata": {},
   "outputs": [],
   "source": [
    "parameters = 'parameters.prmtop' # AMBER parameters file\n",
    "trajectory = 'trajectory.nc'     # AMBER NetCDF coordinates (10 frames)"
   ]
  },
  {
   "cell_type": "code",
   "execution_count": 3,
   "metadata": {},
   "outputs": [
    {
     "name": "stdout",
     "output_type": "stream",
     "text": [
      "Trajectory has been loaded!\n"
     ]
    }
   ],
   "source": [
    "emda = EMDA(parameters=parameters, trajectory=trajectory)"
   ]
  },
  {
   "cell_type": "markdown",
   "metadata": {},
   "source": [
    "# Select the atoms to be used for the analysis <a class=\"anchor\" id=\"select\"></a>"
   ]
  },
  {
   "cell_type": "code",
   "execution_count": 4,
   "metadata": {},
   "outputs": [],
   "source": [
    "emda.select('C10', 'C10', sel_type='at_name')\n",
    "emda.select('C11', 'C11', sel_type='at_name')\n",
    "emda.select('C12', 'C12', sel_type='at_name')\n",
    "emda.select('C13', 'C13', sel_type='at_name')\n",
    "emda.select('C14', 'C14', sel_type='at_name')\n",
    "\n",
    "emda.select('H12', ['H12A', 'H12B'], sel_type='at_name')\n",
    "emda.select('cof', 10597, sel_type='at_num')\n",
    "\n",
    "emda.select('COO', [10599, 10600, 10601], sel_type='at_num')\n",
    "\n",
    "subs = emda.universe.select_atoms('resid 666')"
   ]
  },
  {
   "cell_type": "code",
   "execution_count": 5,
   "metadata": {},
   "outputs": [
    {
     "name": "stdout",
     "output_type": "stream",
     "text": [
      "<AtomGroup [<Atom 10626: C12 of type c3 of resname DHA, resid 666 and segid SYSTEM>]>\n"
     ]
    }
   ],
   "source": [
    "print(emda.selections['C12'])"
   ]
  },
  {
   "cell_type": "markdown",
   "metadata": {},
   "source": [
    "# Analysis of the trajectory <a class=\"anchor\" id=\"trajanalysis\"></a>"
   ]
  },
  {
   "cell_type": "code",
   "execution_count": 6,
   "metadata": {},
   "outputs": [],
   "source": [
    "emda.add_distance('dist_H12', 'cof', 'H12')\n",
    "emda.add_angle('angle_C11C12C13', 'C11', 'C12', 'C13')\n",
    "emda.add_dihedral('dihe_C10C11C13C14', 'C10', 'C11', 'C13', 'C14', domain=180)\n",
    "emda.add_contacts('contacts_COO', 'COO', sel_env=5, interactions='all', include_WAT=True, measure_distances=True)\n",
    "#emda.add_contacts('contacts_prot', 'protein', sel_env=5)\n",
    "#emda.add_pKa('pka', excluded_ions=['Na+'], keep_pdb=True, keep_pka=True)\n",
    "emda.add_RMSD('RMSD_subs', subs)"
   ]
  },
  {
   "cell_type": "markdown",
   "metadata": {},
   "source": [
    "## Run the measurements"
   ]
  },
  {
   "cell_type": "code",
   "execution_count": 7,
   "metadata": {},
   "outputs": [
    {
     "name": "stdout",
     "output_type": "stream",
     "text": [
      "{'dist_H12': Measure dataclass with:\n",
      "\tName:   dist_H12\n",
      "\tType:   distance\n",
      "\tSel:    [<AtomGroup with 1 atom>, <AtomGroup with 2 atoms>]\n",
      "\tStatus: Not calculated\n",
      ", 'angle_C11C12C13': Measure dataclass with:\n",
      "\tName:   angle_C11C12C13\n",
      "\tType:   angle\n",
      "\tSel:    [<AtomGroup with 1 atom>, <AtomGroup with 1 atom>, <AtomGroup with 1 atom>]\n",
      "\tStatus: Not calculated\n",
      ", 'dihe_C10C11C13C14': Measure dataclass with:\n",
      "\tName:   dihe_C10C11C13C14\n",
      "\tType:   dihedral\n",
      "\tSel:    [<AtomGroup with 1 atom>, <AtomGroup with 1 atom>, <AtomGroup with 1 atom>, <AtomGroup with 1 atom>]\n",
      "\tStatus: Not calculated\n",
      ", 'contacts_COO': Measure dataclass with:\n",
      "\tName:   contacts_COO\n",
      "\tType:   contacts\n",
      "\tSel:    [<AtomGroup with 3 atoms>, <AtomGroup with 77 atoms, with selection 'around 5 group select' on the entire Universe.>]\n",
      "\tStatus: Not calculated\n",
      ", 'RMSD_subs': Measure dataclass with:\n",
      "\tName:   RMSD_subs\n",
      "\tType:   RMSD\n",
      "\tSel:    [<AtomGroup with 55 atoms>]\n",
      "\tStatus: Not calculated\n",
      "}\n"
     ]
    }
   ],
   "source": [
    "print(emda.measures)"
   ]
  },
  {
   "cell_type": "code",
   "execution_count": 8,
   "metadata": {},
   "outputs": [
    {
     "name": "stderr",
     "output_type": "stream",
     "text": [
      "Measuring:   0%|          | 0/10 [00:00<?, ?Frame/s]"
     ]
    },
    {
     "name": "stderr",
     "output_type": "stream",
     "text": [
      "Measuring: 100%|██████████| 10/10 [00:00<00:00, 266.94Frame/s]\n"
     ]
    }
   ],
   "source": [
    "emda.run()"
   ]
  },
  {
   "cell_type": "code",
   "execution_count": 9,
   "metadata": {},
   "outputs": [],
   "source": [
    "emda.analyse_value('dist_H12_bool', 'dist_H12', 5)"
   ]
  },
  {
   "cell_type": "code",
   "execution_count": 10,
   "metadata": {},
   "outputs": [
    {
     "name": "stdout",
     "output_type": "stream",
     "text": [
      "angle_C11C12C13 average is: 112.20870900390655\n",
      "angle_C11C12C13 min is: 107.89308253365704\n",
      "angle_C11C12C13 max is: 118.05900472297759\n"
     ]
    }
   ],
   "source": [
    "print('angle_C11C12C13 average is:', average(emda.measures['angle_C11C12C13'].result))\n",
    "print('angle_C11C12C13 min is:', min(emda.measures['angle_C11C12C13'].result))\n",
    "print('angle_C11C12C13 max is:', max(emda.measures['angle_C11C12C13'].result))"
   ]
  },
  {
   "cell_type": "code",
   "execution_count": 11,
   "metadata": {},
   "outputs": [],
   "source": [
    "emda.analyse_value('angle_C11C12C13_bool', 'angle_C11C12C13', 110, 5, mode='tol')"
   ]
  },
  {
   "cell_type": "code",
   "execution_count": 12,
   "metadata": {},
   "outputs": [
    {
     "data": {
      "text/plain": [
       "[112.02202569860975,\n",
       " 111.8937126966033,\n",
       " 111.26140570617383,\n",
       " 112.30627552711508,\n",
       " 107.89308253365704,\n",
       " 116.13395578048454,\n",
       " 108.0022472216121,\n",
       " 110.32166887755017,\n",
       " 118.05900472297759,\n",
       " 114.19371127428218]"
      ]
     },
     "execution_count": 12,
     "metadata": {},
     "output_type": "execute_result"
    }
   ],
   "source": [
    "emda.measures['angle_C11C12C13'].result"
   ]
  },
  {
   "cell_type": "code",
   "execution_count": 13,
   "metadata": {},
   "outputs": [
    {
     "data": {
      "text/plain": [
       "'value'"
      ]
     },
     "execution_count": 13,
     "metadata": {},
     "output_type": "execute_result"
    }
   ],
   "source": [
    "emda.analyses['angle_C11C12C13_bool'].type"
   ]
  },
  {
   "cell_type": "code",
   "execution_count": 14,
   "metadata": {},
   "outputs": [
    {
     "name": "stdout",
     "output_type": "stream",
     "text": [
      "{'dist_H12_bool': Analysis dataclass with:\n",
      "\tName:   dist_H12_bool\n",
      "\tType:   value\n",
      "\tRelated mesure:    dist_H12\n",
      "\tStatus: Calculated\n",
      ", 'angle_C11C12C13_bool': Analysis dataclass with:\n",
      "\tName:   angle_C11C12C13_bool\n",
      "\tType:   value\n",
      "\tRelated mesure:    angle_C11C12C13\n",
      "\tStatus: Calculated\n",
      "}\n"
     ]
    }
   ],
   "source": [
    "print(emda.analyses)"
   ]
  },
  {
   "cell_type": "code",
   "execution_count": 15,
   "metadata": {},
   "outputs": [],
   "source": [
    "emda.analyse_NACs('dist_angle_NACs', ['dist_H12_bool', 'angle_C11C12C13_bool'], inverse=False)\n"
   ]
  },
  {
   "cell_type": "code",
   "execution_count": 17,
   "metadata": {},
   "outputs": [],
   "source": [
    "emda.analyse_NACs('dist_angle_NACs_inverse', ['dist_H12_bool', 'angle_C11C12C13_bool'], inverse=['angle_C11C12C13_bool'])\n"
   ]
  },
  {
   "cell_type": "code",
   "execution_count": 19,
   "metadata": {},
   "outputs": [
    {
     "name": "stdout",
     "output_type": "stream",
     "text": [
      "dist_H12_bool:\t\t\t [True, True, True, True, True, True, True, True, True, True]\n",
      "angle_C11C12C13_bool:\t\t [True, True, True, True, True, False, True, True, False, True]\n",
      "dist_angle_NACs:\t\t [True, True, True, True, True, False, True, True, False, True]\n",
      "dist_angle_NACs_inverse:\t [False, False, False, False, False, True, False, False, True, False]\n"
     ]
    }
   ],
   "source": [
    "print('dist_H12_bool:\\t\\t\\t', emda.analyses['dist_H12_bool'].result)\n",
    "print('angle_C11C12C13_bool:\\t\\t', emda.analyses['angle_C11C12C13_bool'].result)\n",
    "print('dist_angle_NACs:\\t\\t', emda.analyses['dist_angle_NACs'].result)\n",
    "print('dist_angle_NACs_inverse:\\t', emda.analyses['dist_angle_NACs_inverse'].result)"
   ]
  },
  {
   "cell_type": "code",
   "execution_count": null,
   "metadata": {},
   "outputs": [],
   "source": []
  }
 ],
 "metadata": {
  "kernelspec": {
   "display_name": "Python 3 (ipykernel)",
   "language": "python",
   "name": "python3"
  },
  "language_info": {
   "codemirror_mode": {
    "name": "ipython",
    "version": 3
   },
   "file_extension": ".py",
   "mimetype": "text/x-python",
   "name": "python",
   "nbconvert_exporter": "python",
   "pygments_lexer": "ipython3",
   "version": "3.12.1"
  }
 },
 "nbformat": 4,
 "nbformat_minor": 4
}
